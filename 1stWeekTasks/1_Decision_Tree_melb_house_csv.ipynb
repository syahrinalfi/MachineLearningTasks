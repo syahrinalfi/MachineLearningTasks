{
  "nbformat": 4,
  "nbformat_minor": 0,
  "metadata": {
    "colab": {
      "provenance": [],
      "authorship_tag": "ABX9TyMyVLuS9b3rmWvp1imWfcjA",
      "include_colab_link": true
    },
    "kernelspec": {
      "name": "python3",
      "display_name": "Python 3"
    },
    "language_info": {
      "name": "python"
    }
  },
  "cells": [
    {
      "cell_type": "markdown",
      "metadata": {
        "id": "view-in-github",
        "colab_type": "text"
      },
      "source": [
        "<a href=\"https://colab.research.google.com/github/syahrinalfi/MachineLearningTasks/blob/main/1stWeekTasks/1_Decision_Tree_melb_house_csv.ipynb\" target=\"_parent\"><img src=\"https://colab.research.google.com/assets/colab-badge.svg\" alt=\"Open In Colab\"/></a>"
      ]
    },
    {
      "cell_type": "markdown",
      "source": [
        "Nama : Muhammad Alfi Syahrin\n",
        "NIM : 1103213144\n",
        "Dataset : melb_house.csv\n",
        "Overview :"
      ],
      "metadata": {
        "id": "ditx3tPrJJoN"
      }
    },
    {
      "cell_type": "code",
      "source": [
        "import pandas as pd\n",
        "from sklearn.model_selection import train_test_split\n",
        "from sklearn.tree import DecisionTreeRegressor\n",
        "from sklearn.metrics import mean_squared_error\n",
        "from google.colab import drive"
      ],
      "metadata": {
        "id": "M-_RS3ozSW-z"
      },
      "execution_count": 77,
      "outputs": []
    },
    {
      "cell_type": "code",
      "source": [
        "# Mount drive dan baca data dari file CSV\n",
        "drive.mount('/content/drive')\n",
        "url = \"/content/drive/MyDrive/Colab Notebooks/Machine Learning/Minggu 1/melb_data.csv\"\n",
        "data = pd.read_csv(url, index_col = 0)\n",
        "\n",
        "# Tampilkan informasi data\n",
        "data.info()\n",
        "print()\n",
        "\n",
        "# Tampilkan lima baris pertama dari data\n",
        "print(data.head())\n",
        "\n",
        "# Pisahkan fitur (X) dan target (y)\n",
        "dataForModel = data.dropna()  # Menghapus baris yang berisi NaN\n",
        "X = dataForModel.drop(['Price'], axis=1) # Menghapus kolom 'Price' untuk Target\n",
        "X = pd.get_dummies(X, drop_first=True) # Melakukan one-hot encoding pada fitur kategorikal dalam DataFrame X\n",
        "y = dataForModel['Price'] # Target\n",
        "\n",
        "# Bagi data menjadi data latih dan data uji\n",
        "X_train, X_test, y_train, y_test = train_test_split(X, y, test_size=0.2, random_state=42)\n",
        "\n",
        "# Buat model Decision Tree\n",
        "model = DecisionTreeRegressor(random_state=42)\n",
        "\n",
        "# Latih model pada data latih\n",
        "model.fit(X_train, y_train)\n",
        "\n",
        "# Lakukan prediksi pada data uji\n",
        "y_pred = model.predict(X_test)\n",
        "\n",
        "# Evaluasi model\n",
        "mse = mean_squared_error(y_test, y_pred)\n",
        "print(\"Mean Squared Error:\", mse)\n"
      ],
      "metadata": {
        "colab": {
          "base_uri": "https://localhost:8080/"
        },
        "id": "I7TQvGd_ZjBS",
        "outputId": "ab68af45-50b3-4e21-c009-9e7b0c4fc269"
      },
      "execution_count": 79,
      "outputs": [
        {
          "output_type": "stream",
          "name": "stdout",
          "text": [
            "Drive already mounted at /content/drive; to attempt to forcibly remount, call drive.mount(\"/content/drive\", force_remount=True).\n",
            "<class 'pandas.core.frame.DataFrame'>\n",
            "Int64Index: 18396 entries, 1 to 23546\n",
            "Data columns (total 21 columns):\n",
            " #   Column         Non-Null Count  Dtype  \n",
            "---  ------         --------------  -----  \n",
            " 0   Suburb         18396 non-null  object \n",
            " 1   Address        18396 non-null  object \n",
            " 2   Rooms          18396 non-null  int64  \n",
            " 3   Type           18396 non-null  object \n",
            " 4   Price          18396 non-null  float64\n",
            " 5   Method         18396 non-null  object \n",
            " 6   SellerG        18396 non-null  object \n",
            " 7   Date           18396 non-null  object \n",
            " 8   Distance       18395 non-null  float64\n",
            " 9   Postcode       18395 non-null  float64\n",
            " 10  Bedroom2       14927 non-null  float64\n",
            " 11  Bathroom       14925 non-null  float64\n",
            " 12  Car            14820 non-null  float64\n",
            " 13  Landsize       13603 non-null  float64\n",
            " 14  BuildingArea   7762 non-null   float64\n",
            " 15  YearBuilt      8958 non-null   float64\n",
            " 16  CouncilArea    12233 non-null  object \n",
            " 17  Lattitude      15064 non-null  float64\n",
            " 18  Longtitude     15064 non-null  float64\n",
            " 19  Regionname     18395 non-null  object \n",
            " 20  Propertycount  18395 non-null  float64\n",
            "dtypes: float64(12), int64(1), object(8)\n",
            "memory usage: 3.1+ MB\n",
            "\n",
            "       Suburb           Address  Rooms Type      Price Method SellerG  \\\n",
            "1  Abbotsford      85 Turner St      2    h  1480000.0      S  Biggin   \n",
            "2  Abbotsford   25 Bloomburg St      2    h  1035000.0      S  Biggin   \n",
            "4  Abbotsford      5 Charles St      3    h  1465000.0     SP  Biggin   \n",
            "5  Abbotsford  40 Federation La      3    h   850000.0     PI  Biggin   \n",
            "6  Abbotsford       55a Park St      4    h  1600000.0     VB  Nelson   \n",
            "\n",
            "        Date  Distance  Postcode  ...  Bathroom  Car  Landsize  BuildingArea  \\\n",
            "1  3/12/2016       2.5    3067.0  ...       1.0  1.0     202.0           NaN   \n",
            "2  4/02/2016       2.5    3067.0  ...       1.0  0.0     156.0          79.0   \n",
            "4  4/03/2017       2.5    3067.0  ...       2.0  0.0     134.0         150.0   \n",
            "5  4/03/2017       2.5    3067.0  ...       2.0  1.0      94.0           NaN   \n",
            "6  4/06/2016       2.5    3067.0  ...       1.0  2.0     120.0         142.0   \n",
            "\n",
            "   YearBuilt  CouncilArea Lattitude  Longtitude             Regionname  \\\n",
            "1        NaN        Yarra  -37.7996    144.9984  Northern Metropolitan   \n",
            "2     1900.0        Yarra  -37.8079    144.9934  Northern Metropolitan   \n",
            "4     1900.0        Yarra  -37.8093    144.9944  Northern Metropolitan   \n",
            "5        NaN        Yarra  -37.7969    144.9969  Northern Metropolitan   \n",
            "6     2014.0        Yarra  -37.8072    144.9941  Northern Metropolitan   \n",
            "\n",
            "  Propertycount  \n",
            "1        4019.0  \n",
            "2        4019.0  \n",
            "4        4019.0  \n",
            "5        4019.0  \n",
            "6        4019.0  \n",
            "\n",
            "[5 rows x 21 columns]\n",
            "Mean Squared Error: 164101687796.55646\n"
          ]
        }
      ]
    }
  ]
}