{
  "nbformat": 4,
  "nbformat_minor": 0,
  "metadata": {
    "colab": {
      "provenance": [],
      "gpuType": "T4",
      "authorship_tag": "ABX9TyPJSjUVU186C2XlsCCx2CQ4",
      "include_colab_link": true
    },
    "kernelspec": {
      "name": "python3",
      "display_name": "Python 3"
    },
    "language_info": {
      "name": "python"
    },
    "accelerator": "GPU"
  },
  "cells": [
    {
      "cell_type": "markdown",
      "metadata": {
        "id": "view-in-github",
        "colab_type": "text"
      },
      "source": [
        "<a href=\"https://colab.research.google.com/github/syahrinalfi/MachineLearningTasks/blob/main/9thWeekTasks/9_Credit_Card_Fraud_Detection_XGBoost.ipynb\" target=\"_parent\"><img src=\"https://colab.research.google.com/assets/colab-badge.svg\" alt=\"Open In Colab\"/></a>"
      ]
    },
    {
      "cell_type": "markdown",
      "source": [
        "* Nama : Muhammad Alfi Syahrin\n",
        "* NIM : 1103213144\n",
        "* Lecture : Tugas Pengganti UTS\n",
        "* Model : XGBoost\n",
        "* Dataset : [Credit Score Classification](https://www.kaggle.com/datasets/parisrohan/credit-score-classification)\n"
      ],
      "metadata": {
        "id": "_b-qruBXSAN4"
      }
    },
    {
      "cell_type": "markdown",
      "source": [
        "# Import Library"
      ],
      "metadata": {
        "id": "urj--B7C7fQw"
      }
    },
    {
      "cell_type": "code",
      "execution_count": 111,
      "metadata": {
        "id": "SWjTDD4RYyxK"
      },
      "outputs": [],
      "source": [
        "import numpy as np\n",
        "import pandas as pd\n",
        "import plotly.graph_objects as go\n",
        "import matplotlib.pyplot as plt\n",
        "import seaborn as sns\n",
        "from google.colab import drive\n",
        "from math import sqrt\n",
        "from sklearn.preprocessing import OrdinalEncoder, LabelEncoder\n",
        "from sklearn.feature_selection import mutual_info_classif\n",
        "from sklearn.model_selection import train_test_split\n",
        "from sklearn.ensemble import RandomForestClassifier\n",
        "from sklearn.metrics import classification_report, confusion_matrix, accuracy_score, mean_squared_error, mean_absolute_error\n",
        "from imblearn.over_sampling import SMOTE\n",
        "from xgboost import XGBRegressor"
      ]
    },
    {
      "cell_type": "markdown",
      "source": [
        "# Load File"
      ],
      "metadata": {
        "id": "78292duF7hq0"
      }
    },
    {
      "cell_type": "code",
      "source": [
        "# Mount drive dan baca data dari file CSV\n",
        "drive.mount('/content/drive')\n",
        "url = \"/content/drive/MyDrive/Colab Notebooks/Machine Learning/UTS/Dataset/train.csv\"\n",
        "df = pd.read_csv(url)"
      ],
      "metadata": {
        "colab": {
          "base_uri": "https://localhost:8080/"
        },
        "id": "C3tNUR0OZq0o",
        "outputId": "fd4c6093-7080-4b66-9d8e-dbbe5a3e54b2"
      },
      "execution_count": 112,
      "outputs": [
        {
          "output_type": "stream",
          "name": "stdout",
          "text": [
            "Drive already mounted at /content/drive; to attempt to forcibly remount, call drive.mount(\"/content/drive\", force_remount=True).\n"
          ]
        },
        {
          "output_type": "stream",
          "name": "stderr",
          "text": [
            "<ipython-input-112-f51d490b4c71>:4: DtypeWarning:\n",
            "\n",
            "Columns (26) have mixed types. Specify dtype option on import or set low_memory=False.\n",
            "\n"
          ]
        }
      ]
    },
    {
      "cell_type": "markdown",
      "source": [
        "# Data Cleaning"
      ],
      "metadata": {
        "id": "3SOIgoMT7t0s"
      }
    },
    {
      "cell_type": "code",
      "source": [
        "# Informasi dataframe\n",
        "df.info()"
      ],
      "metadata": {
        "colab": {
          "base_uri": "https://localhost:8080/"
        },
        "id": "EB5LxAzQ_-3N",
        "outputId": "6d2d8a59-2bbb-4a9d-9a29-9b58a6193412"
      },
      "execution_count": 113,
      "outputs": [
        {
          "output_type": "stream",
          "name": "stdout",
          "text": [
            "<class 'pandas.core.frame.DataFrame'>\n",
            "RangeIndex: 100000 entries, 0 to 99999\n",
            "Data columns (total 28 columns):\n",
            " #   Column                    Non-Null Count   Dtype  \n",
            "---  ------                    --------------   -----  \n",
            " 0   ID                        100000 non-null  object \n",
            " 1   Customer_ID               100000 non-null  object \n",
            " 2   Month                     100000 non-null  object \n",
            " 3   Name                      90015 non-null   object \n",
            " 4   Age                       100000 non-null  object \n",
            " 5   SSN                       100000 non-null  object \n",
            " 6   Occupation                100000 non-null  object \n",
            " 7   Annual_Income             100000 non-null  object \n",
            " 8   Monthly_Inhand_Salary     84998 non-null   float64\n",
            " 9   Num_Bank_Accounts         100000 non-null  int64  \n",
            " 10  Num_Credit_Card           100000 non-null  int64  \n",
            " 11  Interest_Rate             100000 non-null  int64  \n",
            " 12  Num_of_Loan               100000 non-null  object \n",
            " 13  Type_of_Loan              88592 non-null   object \n",
            " 14  Delay_from_due_date       100000 non-null  int64  \n",
            " 15  Num_of_Delayed_Payment    92998 non-null   object \n",
            " 16  Changed_Credit_Limit      100000 non-null  object \n",
            " 17  Num_Credit_Inquiries      98035 non-null   float64\n",
            " 18  Credit_Mix                100000 non-null  object \n",
            " 19  Outstanding_Debt          100000 non-null  object \n",
            " 20  Credit_Utilization_Ratio  100000 non-null  float64\n",
            " 21  Credit_History_Age        90970 non-null   object \n",
            " 22  Payment_of_Min_Amount     100000 non-null  object \n",
            " 23  Total_EMI_per_month       100000 non-null  float64\n",
            " 24  Amount_invested_monthly   95521 non-null   object \n",
            " 25  Payment_Behaviour         100000 non-null  object \n",
            " 26  Monthly_Balance           98800 non-null   object \n",
            " 27  Credit_Score              100000 non-null  object \n",
            "dtypes: float64(4), int64(4), object(20)\n",
            "memory usage: 21.4+ MB\n"
          ]
        }
      ]
    },
    {
      "cell_type": "markdown",
      "source": [
        "Dari Output dapat dilihat bahwa masih banyak data yang tipenya tidak sesuai dan terdapat juga yang memiliki null value. Karena itu perlu dilakukan cleaning."
      ],
      "metadata": {
        "id": "_Zdm_WpZAB4T"
      }
    },
    {
      "cell_type": "markdown",
      "source": [
        "## Data Format"
      ],
      "metadata": {
        "id": "3hdF6y8M_8DJ"
      }
    },
    {
      "cell_type": "code",
      "source": [
        "# Melakukan pengisian data yang kosong, melakukan pengambilan angka saja tanpa karakter pada kolom tertentu, dan mengubah tipe kolom menjadi integer\n",
        "df['Age'] = df['Age'].fillna('0').str.extract('(\\d+)').astype(float).astype(int)\n",
        "df['Num_of_Loan'] = df['Num_of_Loan'].fillna('0').str.extract('(\\d+)').astype(float).astype(int)\n",
        "df['Num_of_Delayed_Payment'] = df['Num_of_Delayed_Payment'].fillna('0').str.extract('(\\d+)').astype(float).astype(int)"
      ],
      "metadata": {
        "id": "etTZN5ll_7Mv"
      },
      "execution_count": 114,
      "outputs": []
    },
    {
      "cell_type": "code",
      "source": [
        "# Mengambil semua nilai berbentuk angka dan menyimpannya kembali dalam bentuk float\n",
        "df['Annual_Income'] = df['Annual_Income'].str.replace(r'[^0-9.]', '', regex=True)\n",
        "df['Annual_Income'] = df['Annual_Income'].astype(float)"
      ],
      "metadata": {
        "id": "H22uJ2JtBdZy"
      },
      "execution_count": 115,
      "outputs": []
    },
    {
      "cell_type": "code",
      "source": [
        "# Mengubah nilai _ menjadi NaN, mengubah kolom menjadi numerik, dan mengisi nilai kolom menjadi 0 jika kolom berisi NaN\n",
        "df['Changed_Credit_Limit'] = df['Changed_Credit_Limit'].replace('_', np.nan)\n",
        "df['Changed_Credit_Limit'] = pd.to_numeric(df['Changed_Credit_Limit'], errors='coerce')\n",
        "df['Changed_Credit_Limit'] = df['Changed_Credit_Limit'].fillna(0)"
      ],
      "metadata": {
        "id": "MxJnrL4XBwQp"
      },
      "execution_count": 116,
      "outputs": []
    },
    {
      "cell_type": "code",
      "source": [
        "# Mengubah kolom menjadi bentuk string, mengambil angka dalam kolom, mengubah kolom menjadi numerik, dan mengisi nilai kolom kosong menjadi 0\n",
        "df['Outstanding_Debt'] = df['Outstanding_Debt'].astype(str)\n",
        "df['Outstanding_Debt'] = df['Outstanding_Debt'].str.replace(r'[^0-9.]', '', regex=True)\n",
        "df['Outstanding_Debt'] = pd.to_numeric(df['Outstanding_Debt'], errors='coerce')\n",
        "df['Outstanding_Debt'] = df['Outstanding_Debt'].fillna(0)"
      ],
      "metadata": {
        "id": "vVGmY43NCBFI"
      },
      "execution_count": 117,
      "outputs": []
    },
    {
      "cell_type": "code",
      "source": [
        "# Mengubah kolom menjadi bentuk string, mengambil mengganti nilai yang kosong menjadi 0, mengambil angka dalam kolom,\n",
        "# mengubah kolom menjadi numerik, dan mengisi kolom yang kosong dengan 0\n",
        "df['Amount_invested_monthly'] = df['Amount_invested_monthly'].astype(str)\n",
        "df['Amount_invested_monthly'] = df['Amount_invested_monthly'].replace('', '0')\n",
        "df['Amount_invested_monthly'] = df['Amount_invested_monthly'].str.replace(r'[^0-9.]', '')\n",
        "df['Amount_invested_monthly'] = pd.to_numeric(df['Amount_invested_monthly'], errors='coerce')\n",
        "df['Amount_invested_monthly'] = df['Amount_invested_monthly'].fillna(0)"
      ],
      "metadata": {
        "id": "FwbuU-2BCwvj"
      },
      "execution_count": 118,
      "outputs": []
    },
    {
      "cell_type": "code",
      "source": [
        "# Mengubah kolom menjadi bentuk string, mengambil mengganti nilai yang kosong menjadi 0, mengambil angka dalam kolom,\n",
        "# mengubah kolom menjadi numerik, dan mengisi kolom yang kosong dengan 0\n",
        "df['Monthly_Balance'] = df['Monthly_Balance'].astype(str)\n",
        "df['Monthly_Balance'] = df['Monthly_Balance'].str.replace(r'[^0-9.-]+', '')\n",
        "df['Monthly_Balance'] = pd.to_numeric(df['Monthly_Balance'], errors='coerce')\n",
        "df['Monthly_Balance'] = df['Monthly_Balance'].fillna(0)"
      ],
      "metadata": {
        "id": "iVRTm8pXDJmb"
      },
      "execution_count": 119,
      "outputs": []
    },
    {
      "cell_type": "code",
      "source": [
        "# Mengubah kolom Credit_History_Age_Months yang tadinya berisi tahun dan bulan dikonversi menjadi bulan\n",
        "def parse_years_and_months(age):\n",
        "    if isinstance(age, str):\n",
        "        age_parts = age.split(' Years and ')\n",
        "        years = int(age_parts[0]) if 'Years' in age else 0\n",
        "        months_str = age_parts[1].split(' Months')[0] if 'Months' in age_parts[1] else '0'\n",
        "        months = int(months_str)\n",
        "        total_months = years * 12 + months\n",
        "        return total_months\n",
        "    else:\n",
        "        return 0\n",
        "\n",
        "df['Credit_History_Age_Months'] = df['Credit_History_Age'].apply(parse_years_and_months)"
      ],
      "metadata": {
        "id": "VztaHzsmDZZu"
      },
      "execution_count": 120,
      "outputs": []
    },
    {
      "cell_type": "markdown",
      "source": [
        "## Duplicates"
      ],
      "metadata": {
        "id": "JXZXsIroD8nC"
      }
    },
    {
      "cell_type": "code",
      "source": [
        "# Mencari jumlah data duplikat dalam dataset\n",
        "duplicates = df[df.duplicated()]\n",
        "num_duplicates = duplicates.shape[0]\n",
        "\n",
        "if num_duplicates == 0:\n",
        "    print(\"Tidak ada duplikat\")\n",
        "else:\n",
        "    print(\"Terdapat\", num_duplicates, \"duplikat.\")"
      ],
      "metadata": {
        "colab": {
          "base_uri": "https://localhost:8080/"
        },
        "id": "eWnhZ0yUD6vp",
        "outputId": "0657e99e-c7b9-4128-a088-455228f0d10b"
      },
      "execution_count": 121,
      "outputs": [
        {
          "output_type": "stream",
          "name": "stdout",
          "text": [
            "Tidak ada duplikat\n"
          ]
        }
      ]
    },
    {
      "cell_type": "markdown",
      "source": [
        "Dari output dapat diketahui bahwa dataset yang digunakan tidak memiliki data duplikat"
      ],
      "metadata": {
        "id": "Ys5eMLZAEIMr"
      }
    },
    {
      "cell_type": "markdown",
      "source": [
        "## Data Scaling"
      ],
      "metadata": {
        "id": "NI0e5YGnEVkE"
      }
    },
    {
      "cell_type": "code",
      "source": [
        "df.describe().T"
      ],
      "metadata": {
        "colab": {
          "base_uri": "https://localhost:8080/",
          "height": 582
        },
        "id": "l6WCVQlpEU_P",
        "outputId": "852934c2-0c0b-4148-bde7-8c3ba8d774ff"
      },
      "execution_count": 122,
      "outputs": [
        {
          "output_type": "execute_result",
          "data": {
            "text/plain": [
              "                              count           mean           std          min  \\\n",
              "Age                        100000.0     119.509700  6.847573e+02    14.000000   \n",
              "Annual_Income              100000.0  176415.701298  1.429618e+06  7005.930000   \n",
              "Monthly_Inhand_Salary       84998.0    4194.170850  3.183686e+03   303.645417   \n",
              "Num_Bank_Accounts          100000.0      17.091280  1.174048e+02    -1.000000   \n",
              "Num_Credit_Card            100000.0      22.474430  1.290574e+02     0.000000   \n",
              "Interest_Rate              100000.0      72.466040  4.664226e+02     1.000000   \n",
              "Num_of_Loan                100000.0      10.761960  6.178993e+01     0.000000   \n",
              "Delay_from_due_date        100000.0      21.068780  1.486010e+01    -5.000000   \n",
              "Num_of_Delayed_Payment     100000.0      28.779410  2.181148e+02     0.000000   \n",
              "Changed_Credit_Limit       100000.0      10.171791  6.880628e+00    -6.490000   \n",
              "Num_Credit_Inquiries        98035.0      27.754251  1.931773e+02     0.000000   \n",
              "Outstanding_Debt           100000.0    1426.220376  1.155129e+03     0.230000   \n",
              "Credit_Utilization_Ratio   100000.0      32.285173  5.116875e+00    20.000000   \n",
              "Total_EMI_per_month        100000.0    1403.118217  8.306041e+03     0.000000   \n",
              "Amount_invested_monthly    100000.0     178.363270  1.984724e+02     0.000000   \n",
              "Monthly_Balance            100000.0     397.684413  2.171320e+02     0.000000   \n",
              "Credit_History_Age_Months  100000.0     201.221460  1.143207e+02     0.000000   \n",
              "\n",
              "                                    25%           50%           75%  \\\n",
              "Age                           25.000000     34.000000     42.000000   \n",
              "Annual_Income              19457.500000  37578.610000  72790.920000   \n",
              "Monthly_Inhand_Salary       1625.568229   3093.745000   5957.448333   \n",
              "Num_Bank_Accounts              3.000000      6.000000      7.000000   \n",
              "Num_Credit_Card                4.000000      5.000000      7.000000   \n",
              "Interest_Rate                  8.000000     13.000000     20.000000   \n",
              "Num_of_Loan                    2.000000      3.000000      6.000000   \n",
              "Delay_from_due_date           10.000000     18.000000     28.000000   \n",
              "Num_of_Delayed_Payment         8.000000     13.000000     18.000000   \n",
              "Changed_Credit_Limit           4.970000      9.250000     14.660000   \n",
              "Num_Credit_Inquiries           3.000000      6.000000      9.000000   \n",
              "Outstanding_Debt             566.072500   1166.155000   1945.962500   \n",
              "Credit_Utilization_Ratio      28.052567     32.305784     36.496663   \n",
              "Total_EMI_per_month           30.306660     69.249473    161.224249   \n",
              "Amount_invested_monthly       58.325837    116.545252    220.039055   \n",
              "Monthly_Balance              267.871374    334.806633    467.670597   \n",
              "Credit_History_Age_Months    114.000000    208.000000    292.000000   \n",
              "\n",
              "                                    max  \n",
              "Age                        8.698000e+03  \n",
              "Annual_Income              2.419806e+07  \n",
              "Monthly_Inhand_Salary      1.520463e+04  \n",
              "Num_Bank_Accounts          1.798000e+03  \n",
              "Num_Credit_Card            1.499000e+03  \n",
              "Interest_Rate              5.797000e+03  \n",
              "Num_of_Loan                1.496000e+03  \n",
              "Delay_from_due_date        6.700000e+01  \n",
              "Num_of_Delayed_Payment     4.397000e+03  \n",
              "Changed_Credit_Limit       3.697000e+01  \n",
              "Num_Credit_Inquiries       2.597000e+03  \n",
              "Outstanding_Debt           4.998070e+03  \n",
              "Credit_Utilization_Ratio   5.000000e+01  \n",
              "Total_EMI_per_month        8.233100e+04  \n",
              "Amount_invested_monthly    1.977326e+03  \n",
              "Monthly_Balance            1.602041e+03  \n",
              "Credit_History_Age_Months  4.040000e+02  "
            ],
            "text/html": [
              "\n",
              "  <div id=\"df-252fef21-f751-4297-81a2-051959f1f140\" class=\"colab-df-container\">\n",
              "    <div>\n",
              "<style scoped>\n",
              "    .dataframe tbody tr th:only-of-type {\n",
              "        vertical-align: middle;\n",
              "    }\n",
              "\n",
              "    .dataframe tbody tr th {\n",
              "        vertical-align: top;\n",
              "    }\n",
              "\n",
              "    .dataframe thead th {\n",
              "        text-align: right;\n",
              "    }\n",
              "</style>\n",
              "<table border=\"1\" class=\"dataframe\">\n",
              "  <thead>\n",
              "    <tr style=\"text-align: right;\">\n",
              "      <th></th>\n",
              "      <th>count</th>\n",
              "      <th>mean</th>\n",
              "      <th>std</th>\n",
              "      <th>min</th>\n",
              "      <th>25%</th>\n",
              "      <th>50%</th>\n",
              "      <th>75%</th>\n",
              "      <th>max</th>\n",
              "    </tr>\n",
              "  </thead>\n",
              "  <tbody>\n",
              "    <tr>\n",
              "      <th>Age</th>\n",
              "      <td>100000.0</td>\n",
              "      <td>119.509700</td>\n",
              "      <td>6.847573e+02</td>\n",
              "      <td>14.000000</td>\n",
              "      <td>25.000000</td>\n",
              "      <td>34.000000</td>\n",
              "      <td>42.000000</td>\n",
              "      <td>8.698000e+03</td>\n",
              "    </tr>\n",
              "    <tr>\n",
              "      <th>Annual_Income</th>\n",
              "      <td>100000.0</td>\n",
              "      <td>176415.701298</td>\n",
              "      <td>1.429618e+06</td>\n",
              "      <td>7005.930000</td>\n",
              "      <td>19457.500000</td>\n",
              "      <td>37578.610000</td>\n",
              "      <td>72790.920000</td>\n",
              "      <td>2.419806e+07</td>\n",
              "    </tr>\n",
              "    <tr>\n",
              "      <th>Monthly_Inhand_Salary</th>\n",
              "      <td>84998.0</td>\n",
              "      <td>4194.170850</td>\n",
              "      <td>3.183686e+03</td>\n",
              "      <td>303.645417</td>\n",
              "      <td>1625.568229</td>\n",
              "      <td>3093.745000</td>\n",
              "      <td>5957.448333</td>\n",
              "      <td>1.520463e+04</td>\n",
              "    </tr>\n",
              "    <tr>\n",
              "      <th>Num_Bank_Accounts</th>\n",
              "      <td>100000.0</td>\n",
              "      <td>17.091280</td>\n",
              "      <td>1.174048e+02</td>\n",
              "      <td>-1.000000</td>\n",
              "      <td>3.000000</td>\n",
              "      <td>6.000000</td>\n",
              "      <td>7.000000</td>\n",
              "      <td>1.798000e+03</td>\n",
              "    </tr>\n",
              "    <tr>\n",
              "      <th>Num_Credit_Card</th>\n",
              "      <td>100000.0</td>\n",
              "      <td>22.474430</td>\n",
              "      <td>1.290574e+02</td>\n",
              "      <td>0.000000</td>\n",
              "      <td>4.000000</td>\n",
              "      <td>5.000000</td>\n",
              "      <td>7.000000</td>\n",
              "      <td>1.499000e+03</td>\n",
              "    </tr>\n",
              "    <tr>\n",
              "      <th>Interest_Rate</th>\n",
              "      <td>100000.0</td>\n",
              "      <td>72.466040</td>\n",
              "      <td>4.664226e+02</td>\n",
              "      <td>1.000000</td>\n",
              "      <td>8.000000</td>\n",
              "      <td>13.000000</td>\n",
              "      <td>20.000000</td>\n",
              "      <td>5.797000e+03</td>\n",
              "    </tr>\n",
              "    <tr>\n",
              "      <th>Num_of_Loan</th>\n",
              "      <td>100000.0</td>\n",
              "      <td>10.761960</td>\n",
              "      <td>6.178993e+01</td>\n",
              "      <td>0.000000</td>\n",
              "      <td>2.000000</td>\n",
              "      <td>3.000000</td>\n",
              "      <td>6.000000</td>\n",
              "      <td>1.496000e+03</td>\n",
              "    </tr>\n",
              "    <tr>\n",
              "      <th>Delay_from_due_date</th>\n",
              "      <td>100000.0</td>\n",
              "      <td>21.068780</td>\n",
              "      <td>1.486010e+01</td>\n",
              "      <td>-5.000000</td>\n",
              "      <td>10.000000</td>\n",
              "      <td>18.000000</td>\n",
              "      <td>28.000000</td>\n",
              "      <td>6.700000e+01</td>\n",
              "    </tr>\n",
              "    <tr>\n",
              "      <th>Num_of_Delayed_Payment</th>\n",
              "      <td>100000.0</td>\n",
              "      <td>28.779410</td>\n",
              "      <td>2.181148e+02</td>\n",
              "      <td>0.000000</td>\n",
              "      <td>8.000000</td>\n",
              "      <td>13.000000</td>\n",
              "      <td>18.000000</td>\n",
              "      <td>4.397000e+03</td>\n",
              "    </tr>\n",
              "    <tr>\n",
              "      <th>Changed_Credit_Limit</th>\n",
              "      <td>100000.0</td>\n",
              "      <td>10.171791</td>\n",
              "      <td>6.880628e+00</td>\n",
              "      <td>-6.490000</td>\n",
              "      <td>4.970000</td>\n",
              "      <td>9.250000</td>\n",
              "      <td>14.660000</td>\n",
              "      <td>3.697000e+01</td>\n",
              "    </tr>\n",
              "    <tr>\n",
              "      <th>Num_Credit_Inquiries</th>\n",
              "      <td>98035.0</td>\n",
              "      <td>27.754251</td>\n",
              "      <td>1.931773e+02</td>\n",
              "      <td>0.000000</td>\n",
              "      <td>3.000000</td>\n",
              "      <td>6.000000</td>\n",
              "      <td>9.000000</td>\n",
              "      <td>2.597000e+03</td>\n",
              "    </tr>\n",
              "    <tr>\n",
              "      <th>Outstanding_Debt</th>\n",
              "      <td>100000.0</td>\n",
              "      <td>1426.220376</td>\n",
              "      <td>1.155129e+03</td>\n",
              "      <td>0.230000</td>\n",
              "      <td>566.072500</td>\n",
              "      <td>1166.155000</td>\n",
              "      <td>1945.962500</td>\n",
              "      <td>4.998070e+03</td>\n",
              "    </tr>\n",
              "    <tr>\n",
              "      <th>Credit_Utilization_Ratio</th>\n",
              "      <td>100000.0</td>\n",
              "      <td>32.285173</td>\n",
              "      <td>5.116875e+00</td>\n",
              "      <td>20.000000</td>\n",
              "      <td>28.052567</td>\n",
              "      <td>32.305784</td>\n",
              "      <td>36.496663</td>\n",
              "      <td>5.000000e+01</td>\n",
              "    </tr>\n",
              "    <tr>\n",
              "      <th>Total_EMI_per_month</th>\n",
              "      <td>100000.0</td>\n",
              "      <td>1403.118217</td>\n",
              "      <td>8.306041e+03</td>\n",
              "      <td>0.000000</td>\n",
              "      <td>30.306660</td>\n",
              "      <td>69.249473</td>\n",
              "      <td>161.224249</td>\n",
              "      <td>8.233100e+04</td>\n",
              "    </tr>\n",
              "    <tr>\n",
              "      <th>Amount_invested_monthly</th>\n",
              "      <td>100000.0</td>\n",
              "      <td>178.363270</td>\n",
              "      <td>1.984724e+02</td>\n",
              "      <td>0.000000</td>\n",
              "      <td>58.325837</td>\n",
              "      <td>116.545252</td>\n",
              "      <td>220.039055</td>\n",
              "      <td>1.977326e+03</td>\n",
              "    </tr>\n",
              "    <tr>\n",
              "      <th>Monthly_Balance</th>\n",
              "      <td>100000.0</td>\n",
              "      <td>397.684413</td>\n",
              "      <td>2.171320e+02</td>\n",
              "      <td>0.000000</td>\n",
              "      <td>267.871374</td>\n",
              "      <td>334.806633</td>\n",
              "      <td>467.670597</td>\n",
              "      <td>1.602041e+03</td>\n",
              "    </tr>\n",
              "    <tr>\n",
              "      <th>Credit_History_Age_Months</th>\n",
              "      <td>100000.0</td>\n",
              "      <td>201.221460</td>\n",
              "      <td>1.143207e+02</td>\n",
              "      <td>0.000000</td>\n",
              "      <td>114.000000</td>\n",
              "      <td>208.000000</td>\n",
              "      <td>292.000000</td>\n",
              "      <td>4.040000e+02</td>\n",
              "    </tr>\n",
              "  </tbody>\n",
              "</table>\n",
              "</div>\n",
              "    <div class=\"colab-df-buttons\">\n",
              "\n",
              "  <div class=\"colab-df-container\">\n",
              "    <button class=\"colab-df-convert\" onclick=\"convertToInteractive('df-252fef21-f751-4297-81a2-051959f1f140')\"\n",
              "            title=\"Convert this dataframe to an interactive table.\"\n",
              "            style=\"display:none;\">\n",
              "\n",
              "  <svg xmlns=\"http://www.w3.org/2000/svg\" height=\"24px\" viewBox=\"0 -960 960 960\">\n",
              "    <path d=\"M120-120v-720h720v720H120Zm60-500h600v-160H180v160Zm220 220h160v-160H400v160Zm0 220h160v-160H400v160ZM180-400h160v-160H180v160Zm440 0h160v-160H620v160ZM180-180h160v-160H180v160Zm440 0h160v-160H620v160Z\"/>\n",
              "  </svg>\n",
              "    </button>\n",
              "\n",
              "  <style>\n",
              "    .colab-df-container {\n",
              "      display:flex;\n",
              "      gap: 12px;\n",
              "    }\n",
              "\n",
              "    .colab-df-convert {\n",
              "      background-color: #E8F0FE;\n",
              "      border: none;\n",
              "      border-radius: 50%;\n",
              "      cursor: pointer;\n",
              "      display: none;\n",
              "      fill: #1967D2;\n",
              "      height: 32px;\n",
              "      padding: 0 0 0 0;\n",
              "      width: 32px;\n",
              "    }\n",
              "\n",
              "    .colab-df-convert:hover {\n",
              "      background-color: #E2EBFA;\n",
              "      box-shadow: 0px 1px 2px rgba(60, 64, 67, 0.3), 0px 1px 3px 1px rgba(60, 64, 67, 0.15);\n",
              "      fill: #174EA6;\n",
              "    }\n",
              "\n",
              "    .colab-df-buttons div {\n",
              "      margin-bottom: 4px;\n",
              "    }\n",
              "\n",
              "    [theme=dark] .colab-df-convert {\n",
              "      background-color: #3B4455;\n",
              "      fill: #D2E3FC;\n",
              "    }\n",
              "\n",
              "    [theme=dark] .colab-df-convert:hover {\n",
              "      background-color: #434B5C;\n",
              "      box-shadow: 0px 1px 3px 1px rgba(0, 0, 0, 0.15);\n",
              "      filter: drop-shadow(0px 1px 2px rgba(0, 0, 0, 0.3));\n",
              "      fill: #FFFFFF;\n",
              "    }\n",
              "  </style>\n",
              "\n",
              "    <script>\n",
              "      const buttonEl =\n",
              "        document.querySelector('#df-252fef21-f751-4297-81a2-051959f1f140 button.colab-df-convert');\n",
              "      buttonEl.style.display =\n",
              "        google.colab.kernel.accessAllowed ? 'block' : 'none';\n",
              "\n",
              "      async function convertToInteractive(key) {\n",
              "        const element = document.querySelector('#df-252fef21-f751-4297-81a2-051959f1f140');\n",
              "        const dataTable =\n",
              "          await google.colab.kernel.invokeFunction('convertToInteractive',\n",
              "                                                    [key], {});\n",
              "        if (!dataTable) return;\n",
              "\n",
              "        const docLinkHtml = 'Like what you see? Visit the ' +\n",
              "          '<a target=\"_blank\" href=https://colab.research.google.com/notebooks/data_table.ipynb>data table notebook</a>'\n",
              "          + ' to learn more about interactive tables.';\n",
              "        element.innerHTML = '';\n",
              "        dataTable['output_type'] = 'display_data';\n",
              "        await google.colab.output.renderOutput(dataTable, element);\n",
              "        const docLink = document.createElement('div');\n",
              "        docLink.innerHTML = docLinkHtml;\n",
              "        element.appendChild(docLink);\n",
              "      }\n",
              "    </script>\n",
              "  </div>\n",
              "\n",
              "\n",
              "<div id=\"df-e9ee3990-2cf2-4c7c-8a93-c19ef70a2de7\">\n",
              "  <button class=\"colab-df-quickchart\" onclick=\"quickchart('df-e9ee3990-2cf2-4c7c-8a93-c19ef70a2de7')\"\n",
              "            title=\"Suggest charts\"\n",
              "            style=\"display:none;\">\n",
              "\n",
              "<svg xmlns=\"http://www.w3.org/2000/svg\" height=\"24px\"viewBox=\"0 0 24 24\"\n",
              "     width=\"24px\">\n",
              "    <g>\n",
              "        <path d=\"M19 3H5c-1.1 0-2 .9-2 2v14c0 1.1.9 2 2 2h14c1.1 0 2-.9 2-2V5c0-1.1-.9-2-2-2zM9 17H7v-7h2v7zm4 0h-2V7h2v10zm4 0h-2v-4h2v4z\"/>\n",
              "    </g>\n",
              "</svg>\n",
              "  </button>\n",
              "\n",
              "<style>\n",
              "  .colab-df-quickchart {\n",
              "      --bg-color: #E8F0FE;\n",
              "      --fill-color: #1967D2;\n",
              "      --hover-bg-color: #E2EBFA;\n",
              "      --hover-fill-color: #174EA6;\n",
              "      --disabled-fill-color: #AAA;\n",
              "      --disabled-bg-color: #DDD;\n",
              "  }\n",
              "\n",
              "  [theme=dark] .colab-df-quickchart {\n",
              "      --bg-color: #3B4455;\n",
              "      --fill-color: #D2E3FC;\n",
              "      --hover-bg-color: #434B5C;\n",
              "      --hover-fill-color: #FFFFFF;\n",
              "      --disabled-bg-color: #3B4455;\n",
              "      --disabled-fill-color: #666;\n",
              "  }\n",
              "\n",
              "  .colab-df-quickchart {\n",
              "    background-color: var(--bg-color);\n",
              "    border: none;\n",
              "    border-radius: 50%;\n",
              "    cursor: pointer;\n",
              "    display: none;\n",
              "    fill: var(--fill-color);\n",
              "    height: 32px;\n",
              "    padding: 0;\n",
              "    width: 32px;\n",
              "  }\n",
              "\n",
              "  .colab-df-quickchart:hover {\n",
              "    background-color: var(--hover-bg-color);\n",
              "    box-shadow: 0 1px 2px rgba(60, 64, 67, 0.3), 0 1px 3px 1px rgba(60, 64, 67, 0.15);\n",
              "    fill: var(--button-hover-fill-color);\n",
              "  }\n",
              "\n",
              "  .colab-df-quickchart-complete:disabled,\n",
              "  .colab-df-quickchart-complete:disabled:hover {\n",
              "    background-color: var(--disabled-bg-color);\n",
              "    fill: var(--disabled-fill-color);\n",
              "    box-shadow: none;\n",
              "  }\n",
              "\n",
              "  .colab-df-spinner {\n",
              "    border: 2px solid var(--fill-color);\n",
              "    border-color: transparent;\n",
              "    border-bottom-color: var(--fill-color);\n",
              "    animation:\n",
              "      spin 1s steps(1) infinite;\n",
              "  }\n",
              "\n",
              "  @keyframes spin {\n",
              "    0% {\n",
              "      border-color: transparent;\n",
              "      border-bottom-color: var(--fill-color);\n",
              "      border-left-color: var(--fill-color);\n",
              "    }\n",
              "    20% {\n",
              "      border-color: transparent;\n",
              "      border-left-color: var(--fill-color);\n",
              "      border-top-color: var(--fill-color);\n",
              "    }\n",
              "    30% {\n",
              "      border-color: transparent;\n",
              "      border-left-color: var(--fill-color);\n",
              "      border-top-color: var(--fill-color);\n",
              "      border-right-color: var(--fill-color);\n",
              "    }\n",
              "    40% {\n",
              "      border-color: transparent;\n",
              "      border-right-color: var(--fill-color);\n",
              "      border-top-color: var(--fill-color);\n",
              "    }\n",
              "    60% {\n",
              "      border-color: transparent;\n",
              "      border-right-color: var(--fill-color);\n",
              "    }\n",
              "    80% {\n",
              "      border-color: transparent;\n",
              "      border-right-color: var(--fill-color);\n",
              "      border-bottom-color: var(--fill-color);\n",
              "    }\n",
              "    90% {\n",
              "      border-color: transparent;\n",
              "      border-bottom-color: var(--fill-color);\n",
              "    }\n",
              "  }\n",
              "</style>\n",
              "\n",
              "  <script>\n",
              "    async function quickchart(key) {\n",
              "      const quickchartButtonEl =\n",
              "        document.querySelector('#' + key + ' button');\n",
              "      quickchartButtonEl.disabled = true;  // To prevent multiple clicks.\n",
              "      quickchartButtonEl.classList.add('colab-df-spinner');\n",
              "      try {\n",
              "        const charts = await google.colab.kernel.invokeFunction(\n",
              "            'suggestCharts', [key], {});\n",
              "      } catch (error) {\n",
              "        console.error('Error during call to suggestCharts:', error);\n",
              "      }\n",
              "      quickchartButtonEl.classList.remove('colab-df-spinner');\n",
              "      quickchartButtonEl.classList.add('colab-df-quickchart-complete');\n",
              "    }\n",
              "    (() => {\n",
              "      let quickchartButtonEl =\n",
              "        document.querySelector('#df-e9ee3990-2cf2-4c7c-8a93-c19ef70a2de7 button');\n",
              "      quickchartButtonEl.style.display =\n",
              "        google.colab.kernel.accessAllowed ? 'block' : 'none';\n",
              "    })();\n",
              "  </script>\n",
              "</div>\n",
              "    </div>\n",
              "  </div>\n"
            ],
            "application/vnd.google.colaboratory.intrinsic+json": {
              "type": "dataframe",
              "summary": "{\n  \"name\": \"df\",\n  \"rows\": 17,\n  \"fields\": [\n    {\n      \"column\": \"count\",\n      \"properties\": {\n        \"dtype\": \"number\",\n        \"std\": 3639.9447535400213,\n        \"min\": 84998.0,\n        \"max\": 100000.0,\n        \"num_unique_values\": 3,\n        \"samples\": [\n          100000.0,\n          84998.0,\n          98035.0\n        ],\n        \"semantic_type\": \"\",\n        \"description\": \"\"\n      }\n    },\n    {\n      \"column\": \"mean\",\n      \"properties\": {\n        \"dtype\": \"number\",\n        \"std\": 42676.30219708766,\n        \"min\": 10.1717906,\n        \"max\": 176415.70129814997,\n        \"num_unique_values\": 17,\n        \"samples\": [\n          119.5097,\n          176415.70129814997,\n          72.46604\n        ],\n        \"semantic_type\": \"\",\n        \"description\": \"\"\n      }\n    },\n    {\n      \"column\": \"std\",\n      \"properties\": {\n        \"dtype\": \"number\",\n        \"std\": 346510.8911316061,\n        \"min\": 5.116875070150906,\n        \"max\": 1429618.0514141545,\n        \"num_unique_values\": 17,\n        \"samples\": [\n          684.7573134999684,\n          1429618.0514141545,\n          466.4226212217138\n        ],\n        \"semantic_type\": \"\",\n        \"description\": \"\"\n      }\n    },\n    {\n      \"column\": \"min\",\n      \"properties\": {\n        \"dtype\": \"number\",\n        \"std\": 1695.8294490789813,\n        \"min\": -6.49,\n        \"max\": 7005.93,\n        \"num_unique_values\": 10,\n        \"samples\": [\n          0.23,\n          7005.93,\n          1.0\n        ],\n        \"semantic_type\": \"\",\n        \"description\": \"\"\n      }\n    },\n    {\n      \"column\": \"25%\",\n      \"properties\": {\n        \"dtype\": \"number\",\n        \"std\": 4694.521200838325,\n        \"min\": 2.0,\n        \"max\": 19457.5,\n        \"num_unique_values\": 15,\n        \"samples\": [\n          566.0725,\n          30.306660494686994,\n          25.0\n        ],\n        \"semantic_type\": \"\",\n        \"description\": \"\"\n      }\n    },\n    {\n      \"column\": \"50%\",\n      \"properties\": {\n        \"dtype\": \"number\",\n        \"std\": 9069.089149388885,\n        \"min\": 3.0,\n        \"max\": 37578.61,\n        \"num_unique_values\": 15,\n        \"samples\": [\n          1166.155,\n          69.24947329972044,\n          34.0\n        ],\n        \"semantic_type\": \"\",\n        \"description\": \"\"\n      }\n    },\n    {\n      \"column\": \"75%\",\n      \"properties\": {\n        \"dtype\": \"number\",\n        \"std\": 17575.593922501772,\n        \"min\": 6.0,\n        \"max\": 72790.92,\n        \"num_unique_values\": 16,\n        \"samples\": [\n          42.0,\n          72790.92,\n          6.0\n        ],\n        \"semantic_type\": \"\",\n        \"description\": \"\"\n      }\n    },\n    {\n      \"column\": \"max\",\n      \"properties\": {\n        \"dtype\": \"number\",\n        \"std\": 5866909.108628571,\n        \"min\": 36.97,\n        \"max\": 24198062.0,\n        \"num_unique_values\": 17,\n        \"samples\": [\n          8698.0,\n          24198062.0,\n          5797.0\n        ],\n        \"semantic_type\": \"\",\n        \"description\": \"\"\n      }\n    }\n  ]\n}"
            }
          },
          "metadata": {},
          "execution_count": 122
        }
      ]
    },
    {
      "cell_type": "code",
      "source": [
        "# Menghilangkan data outlier sebanyak 2% dari kolom yang dipilih\n",
        "selected_columns_df = df[['Num_Bank_Accounts', 'Interest_Rate', 'Annual_Income', 'Num_of_Delayed_Payment',\n",
        "                             'Num_Credit_Inquiries', 'Total_EMI_per_month', 'Num_of_Loan', 'Num_Credit_Card']]\n",
        "\n",
        "percentile_threshold = 0.98\n",
        "percentiles = selected_columns_df.quantile(percentile_threshold)\n",
        "\n",
        "for column in selected_columns_df.columns:\n",
        "    df = df[df[column] <= percentiles[column]]"
      ],
      "metadata": {
        "id": "9e_8FeKeFBbr"
      },
      "execution_count": 123,
      "outputs": []
    },
    {
      "cell_type": "code",
      "source": [
        "df.describe().T"
      ],
      "metadata": {
        "colab": {
          "base_uri": "https://localhost:8080/",
          "height": 582
        },
        "id": "lggJeoEWFZrz",
        "outputId": "10e0abd2-1933-41c0-8853-3c5d6cec4613"
      },
      "execution_count": 124,
      "outputs": [
        {
          "output_type": "execute_result",
          "data": {
            "text/plain": [
              "                             count          mean           std          min  \\\n",
              "Age                        85806.0    120.486003    690.067511    14.000000   \n",
              "Annual_Income              85806.0  49378.620726  36478.390299  7005.930000   \n",
              "Monthly_Inhand_Salary      72894.0   4105.781241   3036.319177   303.645417   \n",
              "Num_Bank_Accounts          85806.0      5.372759      2.585031    -1.000000   \n",
              "Num_Credit_Card            85806.0      5.779048      5.727016     0.000000   \n",
              "Interest_Rate              85806.0     14.551174      8.824173     1.000000   \n",
              "Num_of_Loan                85806.0      7.318381     18.881665     0.000000   \n",
              "Delay_from_due_date        85806.0     21.033483     14.786223    -5.000000   \n",
              "Num_of_Delayed_Payment     85806.0     12.348321      6.845002     0.000000   \n",
              "Changed_Credit_Limit       85806.0     10.189597      6.867078    -6.490000   \n",
              "Num_Credit_Inquiries       85806.0      5.757558      3.808858     0.000000   \n",
              "Outstanding_Debt           85806.0   1420.471486   1150.336514     0.230000   \n",
              "Credit_Utilization_Ratio   85806.0     32.250542      5.098798    20.000000   \n",
              "Total_EMI_per_month        85806.0    287.201729   1900.010819     0.000000   \n",
              "Amount_invested_monthly    85806.0    174.614986    190.440132     0.000000   \n",
              "Monthly_Balance            85806.0    393.844633    208.552121     0.000000   \n",
              "Credit_History_Age_Months  85806.0    201.374484    114.274695     0.000000   \n",
              "\n",
              "                                    25%           50%           75%  \\\n",
              "Age                           25.000000     34.000000     42.000000   \n",
              "Annual_Income              19294.460000  36780.030000  70825.760000   \n",
              "Monthly_Inhand_Salary       1623.778333   3069.091667   5899.970000   \n",
              "Num_Bank_Accounts              3.000000      6.000000      7.000000   \n",
              "Num_Credit_Card                4.000000      5.000000      7.000000   \n",
              "Interest_Rate                  7.000000     13.000000     20.000000   \n",
              "Num_of_Loan                    2.000000      3.000000      6.000000   \n",
              "Delay_from_due_date           10.000000     18.000000     28.000000   \n",
              "Num_of_Delayed_Payment         8.000000     13.000000     18.000000   \n",
              "Changed_Credit_Limit           4.990000      9.280000     14.710000   \n",
              "Num_Credit_Inquiries           3.000000      5.000000      8.000000   \n",
              "Outstanding_Debt             565.375000   1163.330000   1933.980000   \n",
              "Credit_Utilization_Ratio      28.024589     32.263129     36.468620   \n",
              "Total_EMI_per_month           29.489975     66.648703    148.997495   \n",
              "Amount_invested_monthly       58.040175    115.485412    216.812779   \n",
              "Monthly_Balance              268.094008    334.580384    464.420853   \n",
              "Credit_History_Age_Months    114.000000    209.000000    292.000000   \n",
              "\n",
              "                                     max  \n",
              "Age                          8698.000000  \n",
              "Annual_Income              166837.640000  \n",
              "Monthly_Inhand_Salary       14131.123333  \n",
              "Num_Bank_Accounts              10.000000  \n",
              "Num_Credit_Card               171.000000  \n",
              "Interest_Rate                 128.000000  \n",
              "Num_of_Loan                   100.000000  \n",
              "Delay_from_due_date            67.000000  \n",
              "Num_of_Delayed_Payment         25.000000  \n",
              "Changed_Credit_Limit           36.970000  \n",
              "Num_Credit_Inquiries           16.000000  \n",
              "Outstanding_Debt             4998.070000  \n",
              "Credit_Utilization_Ratio       48.489852  \n",
              "Total_EMI_per_month         29974.000000  \n",
              "Amount_invested_monthly      1775.048037  \n",
              "Monthly_Balance              1497.941923  \n",
              "Credit_History_Age_Months     404.000000  "
            ],
            "text/html": [
              "\n",
              "  <div id=\"df-48ee2e9e-4a68-43b8-93d5-f25c95da4b7e\" class=\"colab-df-container\">\n",
              "    <div>\n",
              "<style scoped>\n",
              "    .dataframe tbody tr th:only-of-type {\n",
              "        vertical-align: middle;\n",
              "    }\n",
              "\n",
              "    .dataframe tbody tr th {\n",
              "        vertical-align: top;\n",
              "    }\n",
              "\n",
              "    .dataframe thead th {\n",
              "        text-align: right;\n",
              "    }\n",
              "</style>\n",
              "<table border=\"1\" class=\"dataframe\">\n",
              "  <thead>\n",
              "    <tr style=\"text-align: right;\">\n",
              "      <th></th>\n",
              "      <th>count</th>\n",
              "      <th>mean</th>\n",
              "      <th>std</th>\n",
              "      <th>min</th>\n",
              "      <th>25%</th>\n",
              "      <th>50%</th>\n",
              "      <th>75%</th>\n",
              "      <th>max</th>\n",
              "    </tr>\n",
              "  </thead>\n",
              "  <tbody>\n",
              "    <tr>\n",
              "      <th>Age</th>\n",
              "      <td>85806.0</td>\n",
              "      <td>120.486003</td>\n",
              "      <td>690.067511</td>\n",
              "      <td>14.000000</td>\n",
              "      <td>25.000000</td>\n",
              "      <td>34.000000</td>\n",
              "      <td>42.000000</td>\n",
              "      <td>8698.000000</td>\n",
              "    </tr>\n",
              "    <tr>\n",
              "      <th>Annual_Income</th>\n",
              "      <td>85806.0</td>\n",
              "      <td>49378.620726</td>\n",
              "      <td>36478.390299</td>\n",
              "      <td>7005.930000</td>\n",
              "      <td>19294.460000</td>\n",
              "      <td>36780.030000</td>\n",
              "      <td>70825.760000</td>\n",
              "      <td>166837.640000</td>\n",
              "    </tr>\n",
              "    <tr>\n",
              "      <th>Monthly_Inhand_Salary</th>\n",
              "      <td>72894.0</td>\n",
              "      <td>4105.781241</td>\n",
              "      <td>3036.319177</td>\n",
              "      <td>303.645417</td>\n",
              "      <td>1623.778333</td>\n",
              "      <td>3069.091667</td>\n",
              "      <td>5899.970000</td>\n",
              "      <td>14131.123333</td>\n",
              "    </tr>\n",
              "    <tr>\n",
              "      <th>Num_Bank_Accounts</th>\n",
              "      <td>85806.0</td>\n",
              "      <td>5.372759</td>\n",
              "      <td>2.585031</td>\n",
              "      <td>-1.000000</td>\n",
              "      <td>3.000000</td>\n",
              "      <td>6.000000</td>\n",
              "      <td>7.000000</td>\n",
              "      <td>10.000000</td>\n",
              "    </tr>\n",
              "    <tr>\n",
              "      <th>Num_Credit_Card</th>\n",
              "      <td>85806.0</td>\n",
              "      <td>5.779048</td>\n",
              "      <td>5.727016</td>\n",
              "      <td>0.000000</td>\n",
              "      <td>4.000000</td>\n",
              "      <td>5.000000</td>\n",
              "      <td>7.000000</td>\n",
              "      <td>171.000000</td>\n",
              "    </tr>\n",
              "    <tr>\n",
              "      <th>Interest_Rate</th>\n",
              "      <td>85806.0</td>\n",
              "      <td>14.551174</td>\n",
              "      <td>8.824173</td>\n",
              "      <td>1.000000</td>\n",
              "      <td>7.000000</td>\n",
              "      <td>13.000000</td>\n",
              "      <td>20.000000</td>\n",
              "      <td>128.000000</td>\n",
              "    </tr>\n",
              "    <tr>\n",
              "      <th>Num_of_Loan</th>\n",
              "      <td>85806.0</td>\n",
              "      <td>7.318381</td>\n",
              "      <td>18.881665</td>\n",
              "      <td>0.000000</td>\n",
              "      <td>2.000000</td>\n",
              "      <td>3.000000</td>\n",
              "      <td>6.000000</td>\n",
              "      <td>100.000000</td>\n",
              "    </tr>\n",
              "    <tr>\n",
              "      <th>Delay_from_due_date</th>\n",
              "      <td>85806.0</td>\n",
              "      <td>21.033483</td>\n",
              "      <td>14.786223</td>\n",
              "      <td>-5.000000</td>\n",
              "      <td>10.000000</td>\n",
              "      <td>18.000000</td>\n",
              "      <td>28.000000</td>\n",
              "      <td>67.000000</td>\n",
              "    </tr>\n",
              "    <tr>\n",
              "      <th>Num_of_Delayed_Payment</th>\n",
              "      <td>85806.0</td>\n",
              "      <td>12.348321</td>\n",
              "      <td>6.845002</td>\n",
              "      <td>0.000000</td>\n",
              "      <td>8.000000</td>\n",
              "      <td>13.000000</td>\n",
              "      <td>18.000000</td>\n",
              "      <td>25.000000</td>\n",
              "    </tr>\n",
              "    <tr>\n",
              "      <th>Changed_Credit_Limit</th>\n",
              "      <td>85806.0</td>\n",
              "      <td>10.189597</td>\n",
              "      <td>6.867078</td>\n",
              "      <td>-6.490000</td>\n",
              "      <td>4.990000</td>\n",
              "      <td>9.280000</td>\n",
              "      <td>14.710000</td>\n",
              "      <td>36.970000</td>\n",
              "    </tr>\n",
              "    <tr>\n",
              "      <th>Num_Credit_Inquiries</th>\n",
              "      <td>85806.0</td>\n",
              "      <td>5.757558</td>\n",
              "      <td>3.808858</td>\n",
              "      <td>0.000000</td>\n",
              "      <td>3.000000</td>\n",
              "      <td>5.000000</td>\n",
              "      <td>8.000000</td>\n",
              "      <td>16.000000</td>\n",
              "    </tr>\n",
              "    <tr>\n",
              "      <th>Outstanding_Debt</th>\n",
              "      <td>85806.0</td>\n",
              "      <td>1420.471486</td>\n",
              "      <td>1150.336514</td>\n",
              "      <td>0.230000</td>\n",
              "      <td>565.375000</td>\n",
              "      <td>1163.330000</td>\n",
              "      <td>1933.980000</td>\n",
              "      <td>4998.070000</td>\n",
              "    </tr>\n",
              "    <tr>\n",
              "      <th>Credit_Utilization_Ratio</th>\n",
              "      <td>85806.0</td>\n",
              "      <td>32.250542</td>\n",
              "      <td>5.098798</td>\n",
              "      <td>20.000000</td>\n",
              "      <td>28.024589</td>\n",
              "      <td>32.263129</td>\n",
              "      <td>36.468620</td>\n",
              "      <td>48.489852</td>\n",
              "    </tr>\n",
              "    <tr>\n",
              "      <th>Total_EMI_per_month</th>\n",
              "      <td>85806.0</td>\n",
              "      <td>287.201729</td>\n",
              "      <td>1900.010819</td>\n",
              "      <td>0.000000</td>\n",
              "      <td>29.489975</td>\n",
              "      <td>66.648703</td>\n",
              "      <td>148.997495</td>\n",
              "      <td>29974.000000</td>\n",
              "    </tr>\n",
              "    <tr>\n",
              "      <th>Amount_invested_monthly</th>\n",
              "      <td>85806.0</td>\n",
              "      <td>174.614986</td>\n",
              "      <td>190.440132</td>\n",
              "      <td>0.000000</td>\n",
              "      <td>58.040175</td>\n",
              "      <td>115.485412</td>\n",
              "      <td>216.812779</td>\n",
              "      <td>1775.048037</td>\n",
              "    </tr>\n",
              "    <tr>\n",
              "      <th>Monthly_Balance</th>\n",
              "      <td>85806.0</td>\n",
              "      <td>393.844633</td>\n",
              "      <td>208.552121</td>\n",
              "      <td>0.000000</td>\n",
              "      <td>268.094008</td>\n",
              "      <td>334.580384</td>\n",
              "      <td>464.420853</td>\n",
              "      <td>1497.941923</td>\n",
              "    </tr>\n",
              "    <tr>\n",
              "      <th>Credit_History_Age_Months</th>\n",
              "      <td>85806.0</td>\n",
              "      <td>201.374484</td>\n",
              "      <td>114.274695</td>\n",
              "      <td>0.000000</td>\n",
              "      <td>114.000000</td>\n",
              "      <td>209.000000</td>\n",
              "      <td>292.000000</td>\n",
              "      <td>404.000000</td>\n",
              "    </tr>\n",
              "  </tbody>\n",
              "</table>\n",
              "</div>\n",
              "    <div class=\"colab-df-buttons\">\n",
              "\n",
              "  <div class=\"colab-df-container\">\n",
              "    <button class=\"colab-df-convert\" onclick=\"convertToInteractive('df-48ee2e9e-4a68-43b8-93d5-f25c95da4b7e')\"\n",
              "            title=\"Convert this dataframe to an interactive table.\"\n",
              "            style=\"display:none;\">\n",
              "\n",
              "  <svg xmlns=\"http://www.w3.org/2000/svg\" height=\"24px\" viewBox=\"0 -960 960 960\">\n",
              "    <path d=\"M120-120v-720h720v720H120Zm60-500h600v-160H180v160Zm220 220h160v-160H400v160Zm0 220h160v-160H400v160ZM180-400h160v-160H180v160Zm440 0h160v-160H620v160ZM180-180h160v-160H180v160Zm440 0h160v-160H620v160Z\"/>\n",
              "  </svg>\n",
              "    </button>\n",
              "\n",
              "  <style>\n",
              "    .colab-df-container {\n",
              "      display:flex;\n",
              "      gap: 12px;\n",
              "    }\n",
              "\n",
              "    .colab-df-convert {\n",
              "      background-color: #E8F0FE;\n",
              "      border: none;\n",
              "      border-radius: 50%;\n",
              "      cursor: pointer;\n",
              "      display: none;\n",
              "      fill: #1967D2;\n",
              "      height: 32px;\n",
              "      padding: 0 0 0 0;\n",
              "      width: 32px;\n",
              "    }\n",
              "\n",
              "    .colab-df-convert:hover {\n",
              "      background-color: #E2EBFA;\n",
              "      box-shadow: 0px 1px 2px rgba(60, 64, 67, 0.3), 0px 1px 3px 1px rgba(60, 64, 67, 0.15);\n",
              "      fill: #174EA6;\n",
              "    }\n",
              "\n",
              "    .colab-df-buttons div {\n",
              "      margin-bottom: 4px;\n",
              "    }\n",
              "\n",
              "    [theme=dark] .colab-df-convert {\n",
              "      background-color: #3B4455;\n",
              "      fill: #D2E3FC;\n",
              "    }\n",
              "\n",
              "    [theme=dark] .colab-df-convert:hover {\n",
              "      background-color: #434B5C;\n",
              "      box-shadow: 0px 1px 3px 1px rgba(0, 0, 0, 0.15);\n",
              "      filter: drop-shadow(0px 1px 2px rgba(0, 0, 0, 0.3));\n",
              "      fill: #FFFFFF;\n",
              "    }\n",
              "  </style>\n",
              "\n",
              "    <script>\n",
              "      const buttonEl =\n",
              "        document.querySelector('#df-48ee2e9e-4a68-43b8-93d5-f25c95da4b7e button.colab-df-convert');\n",
              "      buttonEl.style.display =\n",
              "        google.colab.kernel.accessAllowed ? 'block' : 'none';\n",
              "\n",
              "      async function convertToInteractive(key) {\n",
              "        const element = document.querySelector('#df-48ee2e9e-4a68-43b8-93d5-f25c95da4b7e');\n",
              "        const dataTable =\n",
              "          await google.colab.kernel.invokeFunction('convertToInteractive',\n",
              "                                                    [key], {});\n",
              "        if (!dataTable) return;\n",
              "\n",
              "        const docLinkHtml = 'Like what you see? Visit the ' +\n",
              "          '<a target=\"_blank\" href=https://colab.research.google.com/notebooks/data_table.ipynb>data table notebook</a>'\n",
              "          + ' to learn more about interactive tables.';\n",
              "        element.innerHTML = '';\n",
              "        dataTable['output_type'] = 'display_data';\n",
              "        await google.colab.output.renderOutput(dataTable, element);\n",
              "        const docLink = document.createElement('div');\n",
              "        docLink.innerHTML = docLinkHtml;\n",
              "        element.appendChild(docLink);\n",
              "      }\n",
              "    </script>\n",
              "  </div>\n",
              "\n",
              "\n",
              "<div id=\"df-60e251d3-b0c7-4790-97e0-0e847b8977fa\">\n",
              "  <button class=\"colab-df-quickchart\" onclick=\"quickchart('df-60e251d3-b0c7-4790-97e0-0e847b8977fa')\"\n",
              "            title=\"Suggest charts\"\n",
              "            style=\"display:none;\">\n",
              "\n",
              "<svg xmlns=\"http://www.w3.org/2000/svg\" height=\"24px\"viewBox=\"0 0 24 24\"\n",
              "     width=\"24px\">\n",
              "    <g>\n",
              "        <path d=\"M19 3H5c-1.1 0-2 .9-2 2v14c0 1.1.9 2 2 2h14c1.1 0 2-.9 2-2V5c0-1.1-.9-2-2-2zM9 17H7v-7h2v7zm4 0h-2V7h2v10zm4 0h-2v-4h2v4z\"/>\n",
              "    </g>\n",
              "</svg>\n",
              "  </button>\n",
              "\n",
              "<style>\n",
              "  .colab-df-quickchart {\n",
              "      --bg-color: #E8F0FE;\n",
              "      --fill-color: #1967D2;\n",
              "      --hover-bg-color: #E2EBFA;\n",
              "      --hover-fill-color: #174EA6;\n",
              "      --disabled-fill-color: #AAA;\n",
              "      --disabled-bg-color: #DDD;\n",
              "  }\n",
              "\n",
              "  [theme=dark] .colab-df-quickchart {\n",
              "      --bg-color: #3B4455;\n",
              "      --fill-color: #D2E3FC;\n",
              "      --hover-bg-color: #434B5C;\n",
              "      --hover-fill-color: #FFFFFF;\n",
              "      --disabled-bg-color: #3B4455;\n",
              "      --disabled-fill-color: #666;\n",
              "  }\n",
              "\n",
              "  .colab-df-quickchart {\n",
              "    background-color: var(--bg-color);\n",
              "    border: none;\n",
              "    border-radius: 50%;\n",
              "    cursor: pointer;\n",
              "    display: none;\n",
              "    fill: var(--fill-color);\n",
              "    height: 32px;\n",
              "    padding: 0;\n",
              "    width: 32px;\n",
              "  }\n",
              "\n",
              "  .colab-df-quickchart:hover {\n",
              "    background-color: var(--hover-bg-color);\n",
              "    box-shadow: 0 1px 2px rgba(60, 64, 67, 0.3), 0 1px 3px 1px rgba(60, 64, 67, 0.15);\n",
              "    fill: var(--button-hover-fill-color);\n",
              "  }\n",
              "\n",
              "  .colab-df-quickchart-complete:disabled,\n",
              "  .colab-df-quickchart-complete:disabled:hover {\n",
              "    background-color: var(--disabled-bg-color);\n",
              "    fill: var(--disabled-fill-color);\n",
              "    box-shadow: none;\n",
              "  }\n",
              "\n",
              "  .colab-df-spinner {\n",
              "    border: 2px solid var(--fill-color);\n",
              "    border-color: transparent;\n",
              "    border-bottom-color: var(--fill-color);\n",
              "    animation:\n",
              "      spin 1s steps(1) infinite;\n",
              "  }\n",
              "\n",
              "  @keyframes spin {\n",
              "    0% {\n",
              "      border-color: transparent;\n",
              "      border-bottom-color: var(--fill-color);\n",
              "      border-left-color: var(--fill-color);\n",
              "    }\n",
              "    20% {\n",
              "      border-color: transparent;\n",
              "      border-left-color: var(--fill-color);\n",
              "      border-top-color: var(--fill-color);\n",
              "    }\n",
              "    30% {\n",
              "      border-color: transparent;\n",
              "      border-left-color: var(--fill-color);\n",
              "      border-top-color: var(--fill-color);\n",
              "      border-right-color: var(--fill-color);\n",
              "    }\n",
              "    40% {\n",
              "      border-color: transparent;\n",
              "      border-right-color: var(--fill-color);\n",
              "      border-top-color: var(--fill-color);\n",
              "    }\n",
              "    60% {\n",
              "      border-color: transparent;\n",
              "      border-right-color: var(--fill-color);\n",
              "    }\n",
              "    80% {\n",
              "      border-color: transparent;\n",
              "      border-right-color: var(--fill-color);\n",
              "      border-bottom-color: var(--fill-color);\n",
              "    }\n",
              "    90% {\n",
              "      border-color: transparent;\n",
              "      border-bottom-color: var(--fill-color);\n",
              "    }\n",
              "  }\n",
              "</style>\n",
              "\n",
              "  <script>\n",
              "    async function quickchart(key) {\n",
              "      const quickchartButtonEl =\n",
              "        document.querySelector('#' + key + ' button');\n",
              "      quickchartButtonEl.disabled = true;  // To prevent multiple clicks.\n",
              "      quickchartButtonEl.classList.add('colab-df-spinner');\n",
              "      try {\n",
              "        const charts = await google.colab.kernel.invokeFunction(\n",
              "            'suggestCharts', [key], {});\n",
              "      } catch (error) {\n",
              "        console.error('Error during call to suggestCharts:', error);\n",
              "      }\n",
              "      quickchartButtonEl.classList.remove('colab-df-spinner');\n",
              "      quickchartButtonEl.classList.add('colab-df-quickchart-complete');\n",
              "    }\n",
              "    (() => {\n",
              "      let quickchartButtonEl =\n",
              "        document.querySelector('#df-60e251d3-b0c7-4790-97e0-0e847b8977fa button');\n",
              "      quickchartButtonEl.style.display =\n",
              "        google.colab.kernel.accessAllowed ? 'block' : 'none';\n",
              "    })();\n",
              "  </script>\n",
              "</div>\n",
              "    </div>\n",
              "  </div>\n"
            ],
            "application/vnd.google.colaboratory.intrinsic+json": {
              "type": "dataframe",
              "summary": "{\n  \"name\": \"df\",\n  \"rows\": 17,\n  \"fields\": [\n    {\n      \"column\": \"count\",\n      \"properties\": {\n        \"dtype\": \"number\",\n        \"std\": 3131.619990469131,\n        \"min\": 72894.0,\n        \"max\": 85806.0,\n        \"num_unique_values\": 2,\n        \"samples\": [\n          72894.0,\n          85806.0\n        ],\n        \"semantic_type\": \"\",\n        \"description\": \"\"\n      }\n    },\n    {\n      \"column\": \"mean\",\n      \"properties\": {\n        \"dtype\": \"number\",\n        \"std\": 11915.530549675861,\n        \"min\": 5.3727594806889964,\n        \"max\": 49378.62072553202,\n        \"num_unique_values\": 17,\n        \"samples\": [\n          120.48600330979185,\n          49378.62072553202\n        ],\n        \"semantic_type\": \"\",\n        \"description\": \"\"\n      }\n    },\n    {\n      \"column\": \"std\",\n      \"properties\": {\n        \"dtype\": \"number\",\n        \"std\": 8776.14081984341,\n        \"min\": 2.5850314955519034,\n        \"max\": 36478.39029890719,\n        \"num_unique_values\": 17,\n        \"samples\": [\n          690.0675110451233,\n          36478.39029890719\n        ],\n        \"semantic_type\": \"\",\n        \"description\": \"\"\n      }\n    },\n    {\n      \"column\": \"min\",\n      \"properties\": {\n        \"dtype\": \"number\",\n        \"std\": 1695.8294490789813,\n        \"min\": -6.49,\n        \"max\": 7005.93,\n        \"num_unique_values\": 10,\n        \"samples\": [\n          0.23,\n          7005.93\n        ],\n        \"semantic_type\": \"\",\n        \"description\": \"\"\n      }\n    },\n    {\n      \"column\": \"25%\",\n      \"properties\": {\n        \"dtype\": \"number\",\n        \"std\": 4655.156238810676,\n        \"min\": 2.0,\n        \"max\": 19294.46,\n        \"num_unique_values\": 16,\n        \"samples\": [\n          25.0,\n          19294.46\n        ],\n        \"semantic_type\": \"\",\n        \"description\": \"\"\n      }\n    },\n    {\n      \"column\": \"50%\",\n      \"properties\": {\n        \"dtype\": \"number\",\n        \"std\": 8876.103143539829,\n        \"min\": 3.0,\n        \"max\": 36780.03,\n        \"num_unique_values\": 15,\n        \"samples\": [\n          1163.33,\n          66.6487033985263\n        ],\n        \"semantic_type\": \"\",\n        \"description\": \"\"\n      }\n    },\n    {\n      \"column\": \"75%\",\n      \"properties\": {\n        \"dtype\": \"number\",\n        \"std\": 17100.865059758315,\n        \"min\": 6.0,\n        \"max\": 70825.76,\n        \"num_unique_values\": 16,\n        \"samples\": [\n          42.0,\n          70825.76\n        ],\n        \"semantic_type\": \"\",\n        \"description\": \"\"\n      }\n    },\n    {\n      \"column\": \"max\",\n      \"properties\": {\n        \"dtype\": \"number\",\n        \"std\": 40277.64769019069,\n        \"min\": 10.0,\n        \"max\": 166837.64,\n        \"num_unique_values\": 17,\n        \"samples\": [\n          8698.0,\n          166837.64\n        ],\n        \"semantic_type\": \"\",\n        \"description\": \"\"\n      }\n    }\n  ]\n}"
            }
          },
          "metadata": {},
          "execution_count": 124
        }
      ]
    },
    {
      "cell_type": "markdown",
      "source": [
        "Dari hasil output dapat dilihat bahwa data sudah berkurang dan pada max terlihat nilainya sudah berubah"
      ],
      "metadata": {
        "id": "QKjXipd3HXku"
      }
    },
    {
      "cell_type": "markdown",
      "source": [
        "## Data Entry Plus"
      ],
      "metadata": {
        "id": "al3f99aRHlDq"
      }
    },
    {
      "cell_type": "markdown",
      "source": [
        "### Filtering"
      ],
      "metadata": {
        "id": "N70eg18HJuK5"
      }
    },
    {
      "cell_type": "code",
      "source": [
        "# Mengambil data dengan payment_behavior yang benar\n",
        "df = df[df['Payment_Behaviour'] != '!@9#%8']"
      ],
      "metadata": {
        "id": "gr1LbxadHp6x"
      },
      "execution_count": 125,
      "outputs": []
    },
    {
      "cell_type": "code",
      "source": [
        "# Menhapus baris yang memiliki nilai '_______' pada kolom Occupation\n",
        "df = df[df['Occupation'] != '_______']\n",
        "print(df['Occupation'].unique())"
      ],
      "metadata": {
        "colab": {
          "base_uri": "https://localhost:8080/"
        },
        "id": "mC1ttdFRJ_jJ",
        "outputId": "ebb76aa7-1aca-47e0-e2f4-12165784284d"
      },
      "execution_count": 126,
      "outputs": [
        {
          "output_type": "stream",
          "name": "stdout",
          "text": [
            "['Scientist' 'Teacher' 'Engineer' 'Entrepreneur' 'Developer' 'Lawyer'\n",
            " 'Media_Manager' 'Doctor' 'Journalist' 'Manager' 'Accountant' 'Musician'\n",
            " 'Mechanic' 'Writer' 'Architect']\n"
          ]
        }
      ]
    },
    {
      "cell_type": "markdown",
      "source": [
        "Dapat dilihat bahwa baris yang memiliki value '_______' sudah dihapus dalam dataframe"
      ],
      "metadata": {
        "id": "7rzhCIYMKMZG"
      }
    },
    {
      "cell_type": "code",
      "source": [
        "# Menghapus baris yang berisi '_' pada kolom Credit_Mix\n",
        "df = df[df['Credit_Mix'] != '_']\n",
        "print(df['Credit_Mix'].unique())"
      ],
      "metadata": {
        "colab": {
          "base_uri": "https://localhost:8080/"
        },
        "id": "zv8UlUIjKWEJ",
        "outputId": "7e8bbf84-507d-427f-e1de-5bba54b79518"
      },
      "execution_count": 127,
      "outputs": [
        {
          "output_type": "stream",
          "name": "stdout",
          "text": [
            "['Good' 'Standard' 'Bad']\n"
          ]
        }
      ]
    },
    {
      "cell_type": "markdown",
      "source": [
        "Dapat dilihat bahwa baris yang memiliki value '_' sudah dihapus dalam dataframe"
      ],
      "metadata": {
        "id": "zAVhadfKKhVr"
      }
    },
    {
      "cell_type": "markdown",
      "source": [
        "### Negative Values"
      ],
      "metadata": {
        "id": "TPQpa1GuKi3u"
      }
    },
    {
      "cell_type": "code",
      "source": [
        "# Menghapus baris yang memiliki nilai negatif pada kolom tertentu di dataframe\n",
        "selected_columns = ['Delay_from_due_date', 'Changed_Credit_Limit', 'Num_Bank_Accounts']\n",
        "\n",
        "for column in selected_columns:\n",
        "    df = df[df[column] >= 0]"
      ],
      "metadata": {
        "id": "XeMI7AKnKpjf"
      },
      "execution_count": 128,
      "outputs": []
    },
    {
      "cell_type": "markdown",
      "source": [
        "## Drop Column"
      ],
      "metadata": {
        "id": "966KJkscK8_T"
      }
    },
    {
      "cell_type": "code",
      "source": [
        "# Menghapus kolom yang kurang berguna untuk pelatihan model\n",
        "\n",
        "columns_to_drop = ['ID', 'Customer_ID', 'Month', 'Name', 'SSN', 'Credit_History_Age','Monthly_Inhand_Salary', 'Type_of_Loan']\n",
        "df.drop(columns=columns_to_drop, inplace=True)"
      ],
      "metadata": {
        "id": "xfE566kQLBSr"
      },
      "execution_count": 129,
      "outputs": []
    },
    {
      "cell_type": "markdown",
      "source": [
        "## Missing Values"
      ],
      "metadata": {
        "id": "1wELt2_WLIqh"
      }
    },
    {
      "cell_type": "code",
      "source": [
        "# Mencari baris yang masih memiliki null value pada salah satu kolom\n",
        "total_missing_values = df.isnull().sum().sum()\n",
        "\n",
        "if total_missing_values == 0:\n",
        "    print(\"Tidak ada missing value\")\n",
        "else:\n",
        "    print(\"Total missing values:\", total_missing_values)"
      ],
      "metadata": {
        "colab": {
          "base_uri": "https://localhost:8080/"
        },
        "id": "4zrGyNm7LKUh",
        "outputId": "d3e52c69-f2b9-497d-c47e-019664f868bf"
      },
      "execution_count": 130,
      "outputs": [
        {
          "output_type": "stream",
          "name": "stdout",
          "text": [
            "Tidak ada missing value\n"
          ]
        }
      ]
    },
    {
      "cell_type": "markdown",
      "source": [
        "Dari output dapat diketahui bahwa dataframe yang sudah dibersihkan tadi sudah tidak memiliki baris yang memiliki null value"
      ],
      "metadata": {
        "id": "DIPPQMZqLYGe"
      }
    },
    {
      "cell_type": "markdown",
      "source": [
        "# Feature Engineering"
      ],
      "metadata": {
        "id": "tBOusYLhLfNI"
      }
    },
    {
      "cell_type": "code",
      "source": [
        "# Menampilkan grafik boxplot untuk kolom numerik\n",
        "numeric_columns = df.select_dtypes(include=['int64', 'float64']).columns\n",
        "\n",
        "num_columns = 8\n",
        "num_rows = (len(numeric_columns) + num_columns - 1) // num_columns\n",
        "\n",
        "fig, axes = plt.subplots(num_rows, num_columns, figsize=(16, 6))\n",
        "\n",
        "axes = axes.flatten()\n",
        "\n",
        "for i, column in enumerate(numeric_columns):\n",
        "    sns.boxplot(x=df[column], ax=axes[i])\n",
        "    axes[i].set_title(column, fontsize=7)\n",
        "    axes[i].set_xlabel('Value', fontsize=7)\n",
        "    axes[i].set_ylabel('Count', fontsize=7)\n",
        "\n",
        "for j in range(len(numeric_columns), num_columns*num_rows):\n",
        "    axes[j].axis('off')\n",
        "\n",
        "plt.tight_layout()\n",
        "plt.show()"
      ],
      "metadata": {
        "colab": {
          "base_uri": "https://localhost:8080/",
          "height": 605
        },
        "id": "rrDmq7PKLh1W",
        "outputId": "b076de42-ebce-47c6-bff9-e3f7c0faba62"
      },
      "execution_count": 131,
      "outputs": [
        {
          "output_type": "display_data",
          "data": {
            "text/plain": [
              "<Figure size 1600x600 with 16 Axes>"
            ],
            "image/png": "[encoded data removed]"
          },
          "metadata": {}
        }
      ]
    },
    {
      "cell_type": "markdown",
      "source": [
        "Dapat dilihat bahwa sebagian besar data outlier sudah dibersihkan menggunakan kode sebelumnya"
      ],
      "metadata": {
        "id": "tg3JWVe_L3Kl"
      }
    },
    {
      "cell_type": "markdown",
      "source": [
        "## Scaling 2.0"
      ],
      "metadata": {
        "id": "CcYU5E6aMBFc"
      }
    },
    {
      "cell_type": "code",
      "source": [
        "# Memberikan batas wajar untuk masing-masing nilai pada kolom\n",
        "\n",
        "df = df[df['Age'] < 60]\n",
        "df = df[df['Num_Credit_Card'] <= 10]\n",
        "df = df[df['Interest_Rate'] <= 50]\n",
        "df = df[df['Num_of_Loan'] <= 12]\n",
        "df = df[df['Num_Bank_Accounts'] <= 10]\n",
        "df = df[df['Delay_from_due_date'] <= 60]\n",
        "df = df[df['Changed_Credit_Limit'] <= 30]\n",
        "df = df[df['Num_Credit_Inquiries'] <= 12]\n",
        "df = df[df['Total_EMI_per_month'] <= 200]\n",
        "df = df[df['Outstanding_Debt'] <= 1500]"
      ],
      "metadata": {
        "id": "XlcllFdcL7Ir"
      },
      "execution_count": 132,
      "outputs": []
    },
    {
      "cell_type": "markdown",
      "source": [
        "## Encoding"
      ],
      "metadata": {
        "id": "0i6xyMtVMgPs"
      }
    },
    {
      "cell_type": "markdown",
      "source": [
        "### Label Encoder"
      ],
      "metadata": {
        "id": "hwByBhmwMx1L"
      }
    },
    {
      "cell_type": "code",
      "source": [
        "# Memberikan label baru untuk Credit_Score agar bisa digunakan dalam model\n",
        "categories = ['Poor', 'Standard', 'Good']\n",
        "encoder = OrdinalEncoder(categories=[categories])\n",
        "df['Credit_Score_Encoded'] = encoder.fit_transform(df[['Credit_Score']])"
      ],
      "metadata": {
        "id": "crugW4LfLwcv"
      },
      "execution_count": 133,
      "outputs": []
    },
    {
      "cell_type": "code",
      "source": [
        "# Memberikan label baru untuk Occupation\n",
        "label_encoder = LabelEncoder()\n",
        "df['Occupation_Encoded'] = label_encoder.fit_transform(df['Occupation'])"
      ],
      "metadata": {
        "id": "ZAyyYMm8NI-l"
      },
      "execution_count": 134,
      "outputs": []
    },
    {
      "cell_type": "markdown",
      "source": [
        "### Ordinal Encoder"
      ],
      "metadata": {
        "id": "yfgj8dzgNWxH"
      }
    },
    {
      "cell_type": "code",
      "source": [
        "# Memberikan label baru untuk kolom Credit_Mix\n",
        "categories = ['Bad', 'Standard', 'Good']\n",
        "encoder = OrdinalEncoder(categories=[categories])\n",
        "df['Credit_Mix_Encoded'] = encoder.fit_transform(df[['Credit_Mix']])"
      ],
      "metadata": {
        "id": "JWwrZtnQNWDi"
      },
      "execution_count": 135,
      "outputs": []
    },
    {
      "cell_type": "code",
      "source": [
        "# Memberikan label baru untuk kolom Payment_Behaviour\n",
        "categories_payment_behaviour = [\n",
        "    'Low_spent_Small_value_payments',\n",
        "    'Low_spent_Medium_value_payments',\n",
        "    'Low_spent_Large_value_payments',\n",
        "    'High_spent_Small_value_payments',\n",
        "    'High_spent_Medium_value_payments',\n",
        "    'High_spent_Large_value_payments'\n",
        "]\n",
        "\n",
        "encoder_payment_behaviour = OrdinalEncoder(categories=[categories_payment_behaviour])\n",
        "\n",
        "df['Payment_Behaviour_Encoded'] = encoder_payment_behaviour.fit_transform(df[['Payment_Behaviour']])"
      ],
      "metadata": {
        "id": "XtQcYdhNNhSq"
      },
      "execution_count": 136,
      "outputs": []
    },
    {
      "cell_type": "code",
      "source": [
        "# Menghapus kolom yang lama\n",
        "columns_to_drop = [ 'Payment_Behaviour', 'Credit_Mix', 'Occupation','Credit_Score']\n",
        "df.drop(columns=columns_to_drop, inplace=True)"
      ],
      "metadata": {
        "id": "cNdqdq37NpCP"
      },
      "execution_count": 137,
      "outputs": []
    },
    {
      "cell_type": "markdown",
      "source": [
        "## New Features"
      ],
      "metadata": {
        "id": "6NOHN1JBN1SK"
      }
    },
    {
      "cell_type": "code",
      "source": [
        "# Menjumlahkan jumlah akun yang dimiliki (Bank Accounts + Credit Cards)\n",
        "df['Total_Num_Accounts'] = df['Num_Bank_Accounts'] + df['Num_Credit_Card']\n",
        "\n",
        "# Menghitung outstanding debt untuk tiap akun\n",
        "df['Debt_Per_Account'] = df['Outstanding_Debt'] / df['Total_Num_Accounts']\n",
        "\n",
        "# Menghitung rasio outstanding debt dengan annual income\n",
        "df['Debt_to_Income_Ratio'] = df['Outstanding_Debt'] / df['Annual_Income']\n",
        "\n",
        "# Menghitung banyak delayed payment tiap akun\n",
        "df['Delayed_Payments_Per_Account'] = df['Num_of_Delayed_Payment'] / df['Total_Num_Accounts']\n",
        "\n",
        "# Menghitung pengeluaran tiap bulan (EMI + Monthly Investments)\n",
        "df['Total_Monthly_Expenses'] = df['Total_EMI_per_month'] + df['Amount_invested_monthly']"
      ],
      "metadata": {
        "id": "mQGGCiGUN5OM"
      },
      "execution_count": 138,
      "outputs": []
    },
    {
      "cell_type": "markdown",
      "source": [
        "## Mutual Information Score (MI Score)"
      ],
      "metadata": {
        "id": "L0PX7BlEOg3d"
      }
    },
    {
      "cell_type": "code",
      "source": [
        "# Mencari variabel paling berguna untuk melakukan prediksi\n",
        "categorical_columns = df.select_dtypes(include=['object']).columns\n",
        "\n",
        "data_encoded = df.copy()\n",
        "\n",
        "encoder = OrdinalEncoder()\n",
        "data_encoded[categorical_columns] = encoder.fit_transform(data_encoded[categorical_columns])\n",
        "\n",
        "y = data_encoded['Credit_Score_Encoded']\n",
        "X = data_encoded.drop(columns=['Credit_Score_Encoded'])\n",
        "\n",
        "mi_scores = mutual_info_classif(X, y)\n",
        "\n",
        "for i, score in enumerate(mi_scores):\n",
        "    print(f\"Feature '{X.columns[i]}': Mutual Information Score = {score}\")"
      ],
      "metadata": {
        "colab": {
          "base_uri": "https://localhost:8080/"
        },
        "id": "cizBLnRCOkuH",
        "outputId": "9e3d6131-68b4-438c-ea1b-98dde8750f53"
      },
      "execution_count": 139,
      "outputs": [
        {
          "output_type": "stream",
          "name": "stdout",
          "text": [
            "Feature 'Age': Mutual Information Score = 0.012345638982465879\n",
            "Feature 'Annual_Income': Mutual Information Score = 0.4300808858316487\n",
            "Feature 'Num_Bank_Accounts': Mutual Information Score = 0.055101550810648714\n",
            "Feature 'Num_Credit_Card': Mutual Information Score = 0.06855192893399042\n",
            "Feature 'Interest_Rate': Mutual Information Score = 0.09630911149911059\n",
            "Feature 'Num_of_Loan': Mutual Information Score = 0.019499283638725995\n",
            "Feature 'Delay_from_due_date': Mutual Information Score = 0.06681996461981732\n",
            "Feature 'Num_of_Delayed_Payment': Mutual Information Score = 0.05320518721484113\n",
            "Feature 'Changed_Credit_Limit': Mutual Information Score = 0.10030337200203343\n",
            "Feature 'Num_Credit_Inquiries': Mutual Information Score = 0.030130791709527704\n",
            "Feature 'Outstanding_Debt': Mutual Information Score = 0.43144642850835746\n",
            "Feature 'Credit_Utilization_Ratio': Mutual Information Score = 0.0008940600062685711\n",
            "Feature 'Payment_of_Min_Amount': Mutual Information Score = 0.07683641468206792\n",
            "Feature 'Total_EMI_per_month': Mutual Information Score = 0.3521283470804806\n",
            "Feature 'Amount_invested_monthly': Mutual Information Score = 0.0014842656329119297\n",
            "Feature 'Monthly_Balance': Mutual Information Score = 0.0044900399385339185\n",
            "Feature 'Credit_History_Age_Months': Mutual Information Score = 0.022765676045761518\n",
            "Feature 'Occupation_Encoded': Mutual Information Score = 0.007462269149411949\n",
            "Feature 'Credit_Mix_Encoded': Mutual Information Score = 0.17675031114387596\n",
            "Feature 'Payment_Behaviour_Encoded': Mutual Information Score = 0.008423495148453863\n",
            "Feature 'Total_Num_Accounts': Mutual Information Score = 0.07546124839817159\n",
            "Feature 'Debt_Per_Account': Mutual Information Score = 0.43138494155193485\n",
            "Feature 'Debt_to_Income_Ratio': Mutual Information Score = 0.433277237789375\n",
            "Feature 'Delayed_Payments_Per_Account': Mutual Information Score = 0.059970209561289956\n",
            "Feature 'Total_Monthly_Expenses': Mutual Information Score = 0.004720045797403483\n"
          ]
        }
      ]
    },
    {
      "cell_type": "code",
      "source": [
        "# Menampilkan hasil keluaran dalam bentuk grafik\n",
        "sorted_mi_scores = sorted(zip(X.columns, mi_scores), key=lambda x: x[1], reverse=True)\n",
        "sorted_columns = [x[0] for x in sorted_mi_scores]\n",
        "sorted_scores = [x[1] for x in sorted_mi_scores]\n",
        "\n",
        "colorscale = 'Viridis'\n",
        "\n",
        "fig = go.Figure(data=[go.Bar(x=sorted_columns, y=sorted_scores, marker=dict(color=sorted_scores, colorbar=dict(title='Mutual Information Score', len=0.5, y=0.2)))])\n",
        "\n",
        "fig.update_layout(title='Mutual Information Scores untuk Setiap Fitur Terhadap Credit_Score',\n",
        "                  xaxis_title='Features',\n",
        "                  yaxis_title='Mutual Information Score')\n",
        "\n",
        "fig.show()"
      ],
      "metadata": {
        "colab": {
          "base_uri": "https://localhost:8080/",
          "height": 542
        },
        "id": "8e0UjYhEOs2I",
        "outputId": "5d2ec225-1d2c-4592-ce50-def3e8399ba2"
      },
      "execution_count": 140,
      "outputs": [
        {
          "output_type": "display_data",
          "data": {
            "text/html": [
              "<html>\n",
              "<head><meta charset=\"utf-8\" /></head>\n",
              "<body>\n",
              "    <div>            <script src=\"https://cdnjs.cloudflare.com/ajax/libs/mathjax/2.7.5/MathJax.js?config=TeX-AMS-MML_SVG\"></script><script type=\"text/javascript\">if (window.MathJax && window.MathJax.Hub && window.MathJax.Hub.Config) {window.MathJax.Hub.Config({SVG: {font: \"STIX-Web\"}});}</script>                <script type=\"text/javascript\">window.PlotlyConfig = {MathJaxConfig: 'local'};</script>\n",
              "        <script charset=\"utf-8\" src=\"https://cdn.plot.ly/plotly-2.24.1.min.js\"></script>                <div id=\"ada16177-e279-4e35-8f6d-9f77a83e48c8\" class=\"plotly-graph-div\" style=\"height:525px; width:100%;\"></div>            <script type=\"text/javascript\">                                    window.PLOTLYENV=window.PLOTLYENV || {};                                    if (document.getElementById(\"ada16177-e279-4e35-8f6d-9f77a83e48c8\")) {                    Plotly.newPlot(                        \"ada16177-e279-4e35-8f6d-9f77a83e48c8\",                        [{\"marker\":{\"color\":[0.433277237789375,0.43144642850835746,0.43138494155193485,0.4300808858316487,0.3521283470804806,0.17675031114387596,0.10030337200203343,0.09630911149911059,0.07683641468206792,0.07546124839817159,0.06855192893399042,0.06681996461981732,0.059970209561289956,0.055101550810648714,0.05320518721484113,0.030130791709527704,0.022765676045761518,0.019499283638725995,0.012345638982465879,0.008423495148453863,0.007462269149411949,0.004720045797403483,0.0044900399385339185,0.0014842656329119297,0.0008940600062685711],\"colorbar\":{\"len\":0.5,\"title\":{\"text\":\"Mutual Information Score\"},\"y\":0.2}},\"x\":[\"Debt_to_Income_Ratio\",\"Outstanding_Debt\",\"Debt_Per_Account\",\"Annual_Income\",\"Total_EMI_per_month\",\"Credit_Mix_Encoded\",\"Changed_Credit_Limit\",\"Interest_Rate\",\"Payment_of_Min_Amount\",\"Total_Num_Accounts\",\"Num_Credit_Card\",\"Delay_from_due_date\",\"Delayed_Payments_Per_Account\",\"Num_Bank_Accounts\",\"Num_of_Delayed_Payment\",\"Num_Credit_Inquiries\",\"Credit_History_Age_Months\",\"Num_of_Loan\",\"Age\",\"Payment_Behaviour_Encoded\",\"Occupation_Encoded\",\"Total_Monthly_Expenses\",\"Monthly_Balance\",\"Amount_invested_monthly\",\"Credit_Utilization_Ratio\"],\"y\":[0.433277237789375,0.43144642850835746,0.43138494155193485,0.4300808858316487,0.3521283470804806,0.17675031114387596,0.10030337200203343,0.09630911149911059,0.07683641468206792,0.07546124839817159,0.06855192893399042,0.06681996461981732,0.059970209561289956,0.055101550810648714,0.05320518721484113,0.030130791709527704,0.022765676045761518,0.019499283638725995,0.012345638982465879,0.008423495148453863,0.007462269149411949,0.004720045797403483,0.0044900399385339185,0.0014842656329119297,0.0008940600062685711],\"type\":\"bar\"}],                        {\"template\":{\"data\":{\"histogram2dcontour\":[{\"type\":\"histogram2dcontour\",\"colorbar\":{\"outlinewidth\":0,\"ticks\":\"\"},\"colorscale\":[[0.0,\"#0d0887\"],[0.1111111111111111,\"#46039f\"],[0.2222222222222222,\"#7201a8\"],[0.3333333333333333,\"#9c179e\"],[0.4444444444444444,\"#bd3786\"],[0.5555555555555556,\"#d8576b\"],[0.6666666666666666,\"#ed7953\"],[0.7777777777777778,\"#fb9f3a\"],[0.8888888888888888,\"#fdca26\"],[1.0,\"#f0f921\"]]}],\"choropleth\":[{\"type\":\"choropleth\",\"colorbar\":{\"outlinewidth\":0,\"ticks\":\"\"}}],\"histogram2d\":[{\"type\":\"histogram2d\",\"colorbar\":{\"outlinewidth\":0,\"ticks\":\"\"},\"colorscale\":[[0.0,\"#0d0887\"],[0.1111111111111111,\"#46039f\"],[0.2222222222222222,\"#7201a8\"],[0.3333333333333333,\"#9c179e\"],[0.4444444444444444,\"#bd3786\"],[0.5555555555555556,\"#d8576b\"],[0.6666666666666666,\"#ed7953\"],[0.7777777777777778,\"#fb9f3a\"],[0.8888888888888888,\"#fdca26\"],[1.0,\"#f0f921\"]]}],\"heatmap\":[{\"type\":\"heatmap\",\"colorbar\":{\"outlinewidth\":0,\"ticks\":\"\"},\"colorscale\":[[0.0,\"#0d0887\"],[0.1111111111111111,\"#46039f\"],[0.2222222222222222,\"#7201a8\"],[0.3333333333333333,\"#9c179e\"],[0.4444444444444444,\"#bd3786\"],[0.5555555555555556,\"#d8576b\"],[0.6666666666666666,\"#ed7953\"],[0.7777777777777778,\"#fb9f3a\"],[0.8888888888888888,\"#fdca26\"],[1.0,\"#f0f921\"]]}],\"heatmapgl\":[{\"type\":\"heatmapgl\",\"colorbar\":{\"outlinewidth\":0,\"ticks\":\"\"},\"colorscale\":[[0.0,\"#0d0887\"],[0.1111111111111111,\"#46039f\"],[0.2222222222222222,\"#7201a8\"],[0.3333333333333333,\"#9c179e\"],[0.4444444444444444,\"#bd3786\"],[0.5555555555555556,\"#d8576b\"],[0.6666666666666666,\"#ed7953\"],[0.7777777777777778,\"#fb9f3a\"],[0.8888888888888888,\"#fdca26\"],[1.0,\"#f0f921\"]]}],\"contourcarpet\":[{\"type\":\"contourcarpet\",\"colorbar\":{\"outlinewidth\":0,\"ticks\":\"\"}}],\"contour\":[{\"type\":\"contour\",\"colorbar\":{\"outlinewidth\":0,\"ticks\":\"\"},\"colorscale\":[[0.0,\"#0d0887\"],[0.1111111111111111,\"#46039f\"],[0.2222222222222222,\"#7201a8\"],[0.3333333333333333,\"#9c179e\"],[0.4444444444444444,\"#bd3786\"],[0.5555555555555556,\"#d8576b\"],[0.6666666666666666,\"#ed7953\"],[0.7777777777777778,\"#fb9f3a\"],[0.8888888888888888,\"#fdca26\"],[1.0,\"#f0f921\"]]}],\"surface\":[{\"type\":\"surface\",\"colorbar\":{\"outlinewidth\":0,\"ticks\":\"\"},\"colorscale\":[[0.0,\"#0d0887\"],[0.1111111111111111,\"#46039f\"],[0.2222222222222222,\"#7201a8\"],[0.3333333333333333,\"#9c179e\"],[0.4444444444444444,\"#bd3786\"],[0.5555555555555556,\"#d8576b\"],[0.6666666666666666,\"#ed7953\"],[0.7777777777777778,\"#fb9f3a\"],[0.8888888888888888,\"#fdca26\"],[1.0,\"#f0f921\"]]}],\"mesh3d\":[{\"type\":\"mesh3d\",\"colorbar\":{\"outlinewidth\":0,\"ticks\":\"\"}}],\"scatter\":[{\"fillpattern\":{\"fillmode\":\"overlay\",\"size\":10,\"solidity\":0.2},\"type\":\"scatter\"}],\"parcoords\":[{\"type\":\"parcoords\",\"line\":{\"colorbar\":{\"outlinewidth\":0,\"ticks\":\"\"}}}],\"scatterpolargl\":[{\"type\":\"scatterpolargl\",\"marker\":{\"colorbar\":{\"outlinewidth\":0,\"ticks\":\"\"}}}],\"bar\":[{\"error_x\":{\"color\":\"#2a3f5f\"},\"error_y\":{\"color\":\"#2a3f5f\"},\"marker\":{\"line\":{\"color\":\"#E5ECF6\",\"width\":0.5},\"pattern\":{\"fillmode\":\"overlay\",\"size\":10,\"solidity\":0.2}},\"type\":\"bar\"}],\"scattergeo\":[{\"type\":\"scattergeo\",\"marker\":{\"colorbar\":{\"outlinewidth\":0,\"ticks\":\"\"}}}],\"scatterpolar\":[{\"type\":\"scatterpolar\",\"marker\":{\"colorbar\":{\"outlinewidth\":0,\"ticks\":\"\"}}}],\"histogram\":[{\"marker\":{\"pattern\":{\"fillmode\":\"overlay\",\"size\":10,\"solidity\":0.2}},\"type\":\"histogram\"}],\"scattergl\":[{\"type\":\"scattergl\",\"marker\":{\"colorbar\":{\"outlinewidth\":0,\"ticks\":\"\"}}}],\"scatter3d\":[{\"type\":\"scatter3d\",\"line\":{\"colorbar\":{\"outlinewidth\":0,\"ticks\":\"\"}},\"marker\":{\"colorbar\":{\"outlinewidth\":0,\"ticks\":\"\"}}}],\"scattermapbox\":[{\"type\":\"scattermapbox\",\"marker\":{\"colorbar\":{\"outlinewidth\":0,\"ticks\":\"\"}}}],\"scatterternary\":[{\"type\":\"scatterternary\",\"marker\":{\"colorbar\":{\"outlinewidth\":0,\"ticks\":\"\"}}}],\"scattercarpet\":[{\"type\":\"scattercarpet\",\"marker\":{\"colorbar\":{\"outlinewidth\":0,\"ticks\":\"\"}}}],\"carpet\":[{\"aaxis\":{\"endlinecolor\":\"#2a3f5f\",\"gridcolor\":\"white\",\"linecolor\":\"white\",\"minorgridcolor\":\"white\",\"startlinecolor\":\"#2a3f5f\"},\"baxis\":{\"endlinecolor\":\"#2a3f5f\",\"gridcolor\":\"white\",\"linecolor\":\"white\",\"minorgridcolor\":\"white\",\"startlinecolor\":\"#2a3f5f\"},\"type\":\"carpet\"}],\"table\":[{\"cells\":{\"fill\":{\"color\":\"#EBF0F8\"},\"line\":{\"color\":\"white\"}},\"header\":{\"fill\":{\"color\":\"#C8D4E3\"},\"line\":{\"color\":\"white\"}},\"type\":\"table\"}],\"barpolar\":[{\"marker\":{\"line\":{\"color\":\"#E5ECF6\",\"width\":0.5},\"pattern\":{\"fillmode\":\"overlay\",\"size\":10,\"solidity\":0.2}},\"type\":\"barpolar\"}],\"pie\":[{\"automargin\":true,\"type\":\"pie\"}]},\"layout\":{\"autotypenumbers\":\"strict\",\"colorway\":[\"#636efa\",\"#EF553B\",\"#00cc96\",\"#ab63fa\",\"#FFA15A\",\"#19d3f3\",\"#FF6692\",\"#B6E880\",\"#FF97FF\",\"#FECB52\"],\"font\":{\"color\":\"#2a3f5f\"},\"hovermode\":\"closest\",\"hoverlabel\":{\"align\":\"left\"},\"paper_bgcolor\":\"white\",\"plot_bgcolor\":\"#E5ECF6\",\"polar\":{\"bgcolor\":\"#E5ECF6\",\"angularaxis\":{\"gridcolor\":\"white\",\"linecolor\":\"white\",\"ticks\":\"\"},\"radialaxis\":{\"gridcolor\":\"white\",\"linecolor\":\"white\",\"ticks\":\"\"}},\"ternary\":{\"bgcolor\":\"#E5ECF6\",\"aaxis\":{\"gridcolor\":\"white\",\"linecolor\":\"white\",\"ticks\":\"\"},\"baxis\":{\"gridcolor\":\"white\",\"linecolor\":\"white\",\"ticks\":\"\"},\"caxis\":{\"gridcolor\":\"white\",\"linecolor\":\"white\",\"ticks\":\"\"}},\"coloraxis\":{\"colorbar\":{\"outlinewidth\":0,\"ticks\":\"\"}},\"colorscale\":{\"sequential\":[[0.0,\"#0d0887\"],[0.1111111111111111,\"#46039f\"],[0.2222222222222222,\"#7201a8\"],[0.3333333333333333,\"#9c179e\"],[0.4444444444444444,\"#bd3786\"],[0.5555555555555556,\"#d8576b\"],[0.6666666666666666,\"#ed7953\"],[0.7777777777777778,\"#fb9f3a\"],[0.8888888888888888,\"#fdca26\"],[1.0,\"#f0f921\"]],\"sequentialminus\":[[0.0,\"#0d0887\"],[0.1111111111111111,\"#46039f\"],[0.2222222222222222,\"#7201a8\"],[0.3333333333333333,\"#9c179e\"],[0.4444444444444444,\"#bd3786\"],[0.5555555555555556,\"#d8576b\"],[0.6666666666666666,\"#ed7953\"],[0.7777777777777778,\"#fb9f3a\"],[0.8888888888888888,\"#fdca26\"],[1.0,\"#f0f921\"]],\"diverging\":[[0,\"#8e0152\"],[0.1,\"#c51b7d\"],[0.2,\"#de77ae\"],[0.3,\"#f1b6da\"],[0.4,\"#fde0ef\"],[0.5,\"#f7f7f7\"],[0.6,\"#e6f5d0\"],[0.7,\"#b8e186\"],[0.8,\"#7fbc41\"],[0.9,\"#4d9221\"],[1,\"#276419\"]]},\"xaxis\":{\"gridcolor\":\"white\",\"linecolor\":\"white\",\"ticks\":\"\",\"title\":{\"standoff\":15},\"zerolinecolor\":\"white\",\"automargin\":true,\"zerolinewidth\":2},\"yaxis\":{\"gridcolor\":\"white\",\"linecolor\":\"white\",\"ticks\":\"\",\"title\":{\"standoff\":15},\"zerolinecolor\":\"white\",\"automargin\":true,\"zerolinewidth\":2},\"scene\":{\"xaxis\":{\"backgroundcolor\":\"#E5ECF6\",\"gridcolor\":\"white\",\"linecolor\":\"white\",\"showbackground\":true,\"ticks\":\"\",\"zerolinecolor\":\"white\",\"gridwidth\":2},\"yaxis\":{\"backgroundcolor\":\"#E5ECF6\",\"gridcolor\":\"white\",\"linecolor\":\"white\",\"showbackground\":true,\"ticks\":\"\",\"zerolinecolor\":\"white\",\"gridwidth\":2},\"zaxis\":{\"backgroundcolor\":\"#E5ECF6\",\"gridcolor\":\"white\",\"linecolor\":\"white\",\"showbackground\":true,\"ticks\":\"\",\"zerolinecolor\":\"white\",\"gridwidth\":2}},\"shapedefaults\":{\"line\":{\"color\":\"#2a3f5f\"}},\"annotationdefaults\":{\"arrowcolor\":\"#2a3f5f\",\"arrowhead\":0,\"arrowwidth\":1},\"geo\":{\"bgcolor\":\"white\",\"landcolor\":\"#E5ECF6\",\"subunitcolor\":\"white\",\"showland\":true,\"showlakes\":true,\"lakecolor\":\"white\"},\"title\":{\"x\":0.05},\"mapbox\":{\"style\":\"light\"}}},\"title\":{\"text\":\"Mutual Information Scores untuk Setiap Fitur Terhadap Credit_Score\"},\"xaxis\":{\"title\":{\"text\":\"Features\"}},\"yaxis\":{\"title\":{\"text\":\"Mutual Information Score\"}}},                        {\"responsive\": true}                    ).then(function(){\n",
              "                            \n",
              "var gd = document.getElementById('ada16177-e279-4e35-8f6d-9f77a83e48c8');\n",
              "var x = new MutationObserver(function (mutations, observer) {{\n",
              "        var display = window.getComputedStyle(gd).display;\n",
              "        if (!display || display === 'none') {{\n",
              "            console.log([gd, 'removed!']);\n",
              "            Plotly.purge(gd);\n",
              "            observer.disconnect();\n",
              "        }}\n",
              "}});\n",
              "\n",
              "// Listen for the removal of the full notebook cells\n",
              "var notebookContainer = gd.closest('#notebook-container');\n",
              "if (notebookContainer) {{\n",
              "    x.observe(notebookContainer, {childList: true});\n",
              "}}\n",
              "\n",
              "// Listen for the clearing of the current output cell\n",
              "var outputEl = gd.closest('.output');\n",
              "if (outputEl) {{\n",
              "    x.observe(outputEl, {childList: true});\n",
              "}}\n",
              "\n",
              "                        })                };                            </script>        </div>\n",
              "</body>\n",
              "</html>"
            ]
          },
          "metadata": {}
        }
      ]
    },
    {
      "cell_type": "markdown",
      "source": [
        "Dari hasil output dapat dilihat bahwa terdapat kolom yang memiliki pengaruh terhadap credit_score dan yang tidak memiliki pengaruh. Dapat diketahui terdapat 4 kolom yang memiliki tingkat hubungan tertinggi, yaitu Debt_to_Income_Ratio, Debt_per_Account, Annual_Income, dan Outstandint_Debt dengan nilai melebihi 0.4"
      ],
      "metadata": {
        "id": "DPfLWrP4PFZj"
      }
    },
    {
      "cell_type": "code",
      "source": [
        "# Menghapus kolom yang tidak memiliki pengaruh besar terhadap kolom yang akan diprediksi\n",
        "\n",
        "columns_to_drop = [ 'Payment_of_Min_Amount', 'Age', 'Monthly_Balance', 'Total_Monthly_Expenses', 'Payment_Behaviour_Encoded', 'Amount_invested_monthly', 'Credit_Utilization_Ratio', 'Occupation_Encoded']\n",
        "df.drop(columns=columns_to_drop, inplace=True)"
      ],
      "metadata": {
        "id": "DR9yI_10PvFh"
      },
      "execution_count": 141,
      "outputs": []
    },
    {
      "cell_type": "markdown",
      "source": [
        "# Machine Learning Model"
      ],
      "metadata": {
        "id": "24_lbeH7PtDy"
      }
    },
    {
      "cell_type": "markdown",
      "source": [
        "## Pembagian Data Menggunakan SMOTE"
      ],
      "metadata": {
        "id": "np0JQNi0QsXx"
      }
    },
    {
      "cell_type": "code",
      "source": [
        "smote_params = {\n",
        "    'sampling_strategy': 'auto',\n",
        "    'random_state': 77,\n",
        "    'k_neighbors': 5,\n",
        "    'n_jobs': -1\n",
        "}\n",
        "\n",
        "smote = SMOTE(**smote_params)\n",
        "\n",
        "X_train = df.drop('Credit_Score_Encoded', axis=1)\n",
        "y_train = df['Credit_Score_Encoded']\n",
        "\n",
        "X_smote, y_smote = smote.fit_resample(X_train, y_train)\n",
        "X_train_smote, X_test_smote, y_train_smote, y_test_smote = train_test_split(X_smote, y_smote, test_size=0.15, random_state=77)"
      ],
      "metadata": {
        "colab": {
          "base_uri": "https://localhost:8080/"
        },
        "id": "IWCfyHMfQNrd",
        "outputId": "ea9395d1-bdf2-47a8-ec99-de2482e9648b"
      },
      "execution_count": 142,
      "outputs": [
        {
          "output_type": "stream",
          "name": "stderr",
          "text": [
            "/usr/local/lib/python3.10/dist-packages/imblearn/over_sampling/_smote/base.py:336: FutureWarning:\n",
            "\n",
            "The parameter `n_jobs` has been deprecated in 0.10 and will be removed in 0.12. You can pass an nearest neighbors estimator where `n_jobs` is already set instead.\n",
            "\n"
          ]
        }
      ]
    },
    {
      "cell_type": "markdown",
      "source": [
        "SMOTE digunakan untuk menyeimbangkan data jika persebaran data klasifikasi target tidak merata, dilakukan dengan cara membuat sampel sintetis dari kelas minoritas untuk menyeimbangkan distribusi kelas dalam dataset."
      ],
      "metadata": {
        "id": "Mi8Ts765SLhe"
      }
    },
    {
      "cell_type": "markdown",
      "source": [
        "## XGBoost"
      ],
      "metadata": {
        "id": "F0-yjCtZQv8n"
      }
    },
    {
      "cell_type": "code",
      "source": [
        "# Membuat model XGBoost dengan estimator 3500\n",
        "xgb_model = XGBRegressor(n_estimators=3500, learning_rate=0.05, random_state=77)\n",
        "xgb_model.fit(X_train_smote, y_train_smote)"
      ],
      "metadata": {
        "colab": {
          "base_uri": "https://localhost:8080/",
          "height": 248
        },
        "id": "Zu46Kw5sQyh1",
        "outputId": "cc52cbad-a360-4a2f-fc81-544d55ee0660"
      },
      "execution_count": 143,
      "outputs": [
        {
          "output_type": "execute_result",
          "data": {
            "text/plain": [
              "XGBRegressor(base_score=None, booster=None, callbacks=None,\n",
              "             colsample_bylevel=None, colsample_bynode=None,\n",
              "             colsample_bytree=None, device=None, early_stopping_rounds=None,\n",
              "             enable_categorical=False, eval_metric=None, feature_types=None,\n",
              "             gamma=None, grow_policy=None, importance_type=None,\n",
              "             interaction_constraints=None, learning_rate=0.05, max_bin=None,\n",
              "             max_cat_threshold=None, max_cat_to_onehot=None,\n",
              "             max_delta_step=None, max_depth=None, max_leaves=None,\n",
              "             min_child_weight=None, missing=nan, monotone_constraints=None,\n",
              "             multi_strategy=None, n_estimators=3500, n_jobs=None,\n",
              "             num_parallel_tree=None, random_state=77, ...)"
            ],
            "text/html": [
              "<style>#sk-container-id-3 {color: black;background-color: white;}#sk-container-id-3 pre{padding: 0;}#sk-container-id-3 div.sk-toggleable {background-color: white;}#sk-container-id-3 label.sk-toggleable__label {cursor: pointer;display: block;width: 100%;margin-bottom: 0;padding: 0.3em;box-sizing: border-box;text-align: center;}#sk-container-id-3 label.sk-toggleable__label-arrow:before {content: \"▸\";float: left;margin-right: 0.25em;color: #696969;}#sk-container-id-3 label.sk-toggleable__label-arrow:hover:before {color: black;}#sk-container-id-3 div.sk-estimator:hover label.sk-toggleable__label-arrow:before {color: black;}#sk-container-id-3 div.sk-toggleable__content {max-height: 0;max-width: 0;overflow: hidden;text-align: left;background-color: #f0f8ff;}#sk-container-id-3 div.sk-toggleable__content pre {margin: 0.2em;color: black;border-radius: 0.25em;background-color: #f0f8ff;}#sk-container-id-3 input.sk-toggleable__control:checked~div.sk-toggleable__content {max-height: 200px;max-width: 100%;overflow: auto;}#sk-container-id-3 input.sk-toggleable__control:checked~label.sk-toggleable__label-arrow:before {content: \"▾\";}#sk-container-id-3 div.sk-estimator input.sk-toggleable__control:checked~label.sk-toggleable__label {background-color: #d4ebff;}#sk-container-id-3 div.sk-label input.sk-toggleable__control:checked~label.sk-toggleable__label {background-color: #d4ebff;}#sk-container-id-3 input.sk-hidden--visually {border: 0;clip: rect(1px 1px 1px 1px);clip: rect(1px, 1px, 1px, 1px);height: 1px;margin: -1px;overflow: hidden;padding: 0;position: absolute;width: 1px;}#sk-container-id-3 div.sk-estimator {font-family: monospace;background-color: #f0f8ff;border: 1px dotted black;border-radius: 0.25em;box-sizing: border-box;margin-bottom: 0.5em;}#sk-container-id-3 div.sk-estimator:hover {background-color: #d4ebff;}#sk-container-id-3 div.sk-parallel-item::after {content: \"\";width: 100%;border-bottom: 1px solid gray;flex-grow: 1;}#sk-container-id-3 div.sk-label:hover label.sk-toggleable__label {background-color: #d4ebff;}#sk-container-id-3 div.sk-serial::before {content: \"\";position: absolute;border-left: 1px solid gray;box-sizing: border-box;top: 0;bottom: 0;left: 50%;z-index: 0;}#sk-container-id-3 div.sk-serial {display: flex;flex-direction: column;align-items: center;background-color: white;padding-right: 0.2em;padding-left: 0.2em;position: relative;}#sk-container-id-3 div.sk-item {position: relative;z-index: 1;}#sk-container-id-3 div.sk-parallel {display: flex;align-items: stretch;justify-content: center;background-color: white;position: relative;}#sk-container-id-3 div.sk-item::before, #sk-container-id-3 div.sk-parallel-item::before {content: \"\";position: absolute;border-left: 1px solid gray;box-sizing: border-box;top: 0;bottom: 0;left: 50%;z-index: -1;}#sk-container-id-3 div.sk-parallel-item {display: flex;flex-direction: column;z-index: 1;position: relative;background-color: white;}#sk-container-id-3 div.sk-parallel-item:first-child::after {align-self: flex-end;width: 50%;}#sk-container-id-3 div.sk-parallel-item:last-child::after {align-self: flex-start;width: 50%;}#sk-container-id-3 div.sk-parallel-item:only-child::after {width: 0;}#sk-container-id-3 div.sk-dashed-wrapped {border: 1px dashed gray;margin: 0 0.4em 0.5em 0.4em;box-sizing: border-box;padding-bottom: 0.4em;background-color: white;}#sk-container-id-3 div.sk-label label {font-family: monospace;font-weight: bold;display: inline-block;line-height: 1.2em;}#sk-container-id-3 div.sk-label-container {text-align: center;}#sk-container-id-3 div.sk-container {/* jupyter's `normalize.less` sets `[hidden] { display: none; }` but bootstrap.min.css set `[hidden] { display: none !important; }` so we also need the `!important` here to be able to override the default hidden behavior on the sphinx rendered scikit-learn.org. See: https://github.com/scikit-learn/scikit-learn/issues/21755 */display: inline-block !important;position: relative;}#sk-container-id-3 div.sk-text-repr-fallback {display: none;}</style><div id=\"sk-container-id-3\" class=\"sk-top-container\"><div class=\"sk-text-repr-fallback\"><pre>XGBRegressor(base_score=None, booster=None, callbacks=None,\n",
              "             colsample_bylevel=None, colsample_bynode=None,\n",
              "             colsample_bytree=None, device=None, early_stopping_rounds=None,\n",
              "             enable_categorical=False, eval_metric=None, feature_types=None,\n",
              "             gamma=None, grow_policy=None, importance_type=None,\n",
              "             interaction_constraints=None, learning_rate=0.05, max_bin=None,\n",
              "             max_cat_threshold=None, max_cat_to_onehot=None,\n",
              "             max_delta_step=None, max_depth=None, max_leaves=None,\n",
              "             min_child_weight=None, missing=nan, monotone_constraints=None,\n",
              "             multi_strategy=None, n_estimators=3500, n_jobs=None,\n",
              "             num_parallel_tree=None, random_state=77, ...)</pre><b>In a Jupyter environment, please rerun this cell to show the HTML representation or trust the notebook. <br />On GitHub, the HTML representation is unable to render, please try loading this page with nbviewer.org.</b></div><div class=\"sk-container\" hidden><div class=\"sk-item\"><div class=\"sk-estimator sk-toggleable\"><input class=\"sk-toggleable__control sk-hidden--visually\" id=\"sk-estimator-id-3\" type=\"checkbox\" checked><label for=\"sk-estimator-id-3\" class=\"sk-toggleable__label sk-toggleable__label-arrow\">XGBRegressor</label><div class=\"sk-toggleable__content\"><pre>XGBRegressor(base_score=None, booster=None, callbacks=None,\n",
              "             colsample_bylevel=None, colsample_bynode=None,\n",
              "             colsample_bytree=None, device=None, early_stopping_rounds=None,\n",
              "             enable_categorical=False, eval_metric=None, feature_types=None,\n",
              "             gamma=None, grow_policy=None, importance_type=None,\n",
              "             interaction_constraints=None, learning_rate=0.05, max_bin=None,\n",
              "             max_cat_threshold=None, max_cat_to_onehot=None,\n",
              "             max_delta_step=None, max_depth=None, max_leaves=None,\n",
              "             min_child_weight=None, missing=nan, monotone_constraints=None,\n",
              "             multi_strategy=None, n_estimators=3500, n_jobs=None,\n",
              "             num_parallel_tree=None, random_state=77, ...)</pre></div></div></div></div></div>"
            ]
          },
          "metadata": {},
          "execution_count": 143
        }
      ]
    },
    {
      "cell_type": "markdown",
      "source": [
        "# Model Evaluation"
      ],
      "metadata": {
        "id": "4wI7O3sFRZHG"
      }
    },
    {
      "cell_type": "code",
      "source": [
        "# Melihat akurasi untuk data training dengan data test\n",
        "print(\"Accuracy on training set:\", xgb_model.score(X_train_smote, y_train_smote))\n",
        "\n",
        "y_pred_smote = xgb_model.predict(X_test_smote)\n",
        "y_pred_smote = np.clip(y_pred_smote, 0, 2)\n",
        "y_pred_smote = np.round(y_pred_smote)\n",
        "accuracy_smote = accuracy_score(y_test_smote, y_pred_smote)\n",
        "\n",
        "print(\"Accuracy on SMOTE test set:\", accuracy_smote)"
      ],
      "metadata": {
        "colab": {
          "base_uri": "https://localhost:8080/"
        },
        "id": "Kw9OcKHxRYbY",
        "outputId": "3e28bbc5-8c89-4303-e4cc-3c6d94a9d900"
      },
      "execution_count": 144,
      "outputs": [
        {
          "output_type": "stream",
          "name": "stdout",
          "text": [
            "Accuracy on training set: 0.9485494218166198\n",
            "Accuracy on SMOTE test set: 0.8379095523765574\n"
          ]
        }
      ]
    },
    {
      "cell_type": "markdown",
      "source": [
        "Dapat dilihat bahwa XGBoost memiliki akurasi menggunakan data train SMOTE sebesar 95% dan data test SMOTE sebesar 84%"
      ],
      "metadata": {
        "id": "iOQPho2BTGIG"
      }
    },
    {
      "cell_type": "code",
      "source": [
        "# Membagi data lagi untuk melakukan pengujian dengan data asli\n",
        "y = df['Credit_Score_Encoded']\n",
        "\n",
        "X = df[['Annual_Income', 'Num_Bank_Accounts', 'Num_Credit_Card',\n",
        "       'Interest_Rate', 'Num_of_Loan', 'Delay_from_due_date',\n",
        "       'Num_of_Delayed_Payment', 'Changed_Credit_Limit',\n",
        "       'Num_Credit_Inquiries', 'Outstanding_Debt', 'Total_EMI_per_month',\n",
        "       'Credit_History_Age_Months', 'Credit_Mix_Encoded', 'Total_Num_Accounts',\n",
        "       'Debt_Per_Account', 'Debt_to_Income_Ratio', 'Delayed_Payments_Per_Account']]\n",
        "\n",
        "X_train, X_test, y_train, y_test = train_test_split(X, y, test_size=0.2, random_state=77)"
      ],
      "metadata": {
        "id": "VEyjwYTzUr50"
      },
      "execution_count": 145,
      "outputs": []
    },
    {
      "cell_type": "code",
      "source": [
        "# Melakukan prediksi menggunakan data asli dan menampilkan akurasi dan confussion matrix\n",
        "y_pred = xgb_model.predict(X_test)\n",
        "\n",
        "y_pred = np.clip(y_pred, 0, 2)\n",
        "y_pred = np.round(y_pred)\n",
        "accuracy = accuracy_score(y_test, y_pred)\n",
        "mse = mean_squared_error(y_test, y_pred)\n",
        "rmse = sqrt(mse)\n",
        "mae = mean_absolute_error(y_test, y_pred)\n",
        "print(\"Akurasi data test asli:\", accuracy)\n",
        "print(\"Mean Squared Error (MSE):\", mse)\n",
        "print(\"Root Mean Squared Error (RMSE):\", rmse)\n",
        "print(\"Mean Absolute Error (MAE):\", mae)\n",
        "\n",
        "matrix = confusion_matrix(y_test, y_pred)\n",
        "plt.figure(figsize=(6, 6))\n",
        "sns.heatmap(matrix, annot=True, cbar=False, cmap='twilight', linewidth=0.5, fmt=\"d\")\n",
        "plt.ylabel('True Label')\n",
        "plt.xlabel('Predicted Label')\n",
        "plt.title('Confusion Matrix RandomForestClassifier pada data test asli')\n",
        "\n",
        "print('\\nClassification report for original test set:\\n', classification_report(y_test, y_pred))"
      ],
      "metadata": {
        "colab": {
          "base_uri": "https://localhost:8080/",
          "height": 856
        },
        "id": "r-7jHKGKTSxR",
        "outputId": "b630969f-8058-4f57-ef20-c4f4e1329c95"
      },
      "execution_count": 146,
      "outputs": [
        {
          "output_type": "stream",
          "name": "stdout",
          "text": [
            "Akurasi data test asli: 0.9349303981871155\n",
            "Mean Squared Error (MSE): 0.06506960181288443\n",
            "Root Mean Squared Error (RMSE): 0.2550874395435503\n",
            "Mean Absolute Error (MAE): 0.06506960181288443\n",
            "\n",
            "Classification report for original test set:\n",
            "               precision    recall  f1-score   support\n",
            "\n",
            "         0.0       0.89      0.93      0.91       901\n",
            "         1.0       0.96      0.93      0.95      3810\n",
            "         2.0       0.90      0.94      0.92      1467\n",
            "\n",
            "    accuracy                           0.93      6178\n",
            "   macro avg       0.92      0.94      0.93      6178\n",
            "weighted avg       0.94      0.93      0.94      6178\n",
            "\n"
          ]
        },
        {
          "output_type": "display_data",
          "data": {
            "text/plain": [
              "<Figure size 600x600 with 1 Axes>"
            ],
            "image/png": "[encoded data removed]"
          },
          "metadata": {}
        }
      ]
    },
    {
      "cell_type": "markdown",
      "source": [
        "Dapat dilihat dari output bahwa ketika model dilakukan pengujian menggunakan data asli, akurasi yang dihasilkan adalah sebesar 93% dengan persebaran seperti yang terlihat pada confussion matrix. Prediksi juga menghasilkan nilai MSE sebesar 0.065, MAE sebesar 0.065, dan RMSE sebesar 0.255"
      ],
      "metadata": {
        "id": "FrZ1JhVbThz2"
      }
    },
    {
      "cell_type": "markdown",
      "source": [
        "# Pengujian Pada Data Test"
      ],
      "metadata": {
        "id": "evdhKr2uHmbN"
      }
    },
    {
      "cell_type": "markdown",
      "source": [
        "## Load File"
      ],
      "metadata": {
        "id": "hWI86yDMH2ks"
      }
    },
    {
      "cell_type": "code",
      "source": [
        "# Mount File Train\n",
        "url = \"/content/drive/MyDrive/Colab Notebooks/Machine Learning/UTS/Dataset/test.csv\"\n",
        "test = pd.read_csv(url)"
      ],
      "metadata": {
        "id": "_oYjCudDHkyI"
      },
      "execution_count": 147,
      "outputs": []
    },
    {
      "cell_type": "markdown",
      "source": [
        "## Data Format"
      ],
      "metadata": {
        "id": "5HvRag0-O-KY"
      }
    },
    {
      "cell_type": "code",
      "source": [
        "# Melakukan pengisian data yang kosong, melakukan pengambilan angka saja tanpa karakter pada kolom tertentu, dan mengubah tipe kolom menjadi integer\n",
        "test['Age'] = test['Age'].fillna('0').str.extract('(\\d+)').astype(float).astype(int)\n",
        "test['Num_of_Loan'] = test['Num_of_Loan'].fillna('0').str.extract('(\\d+)').astype(float).astype(int)\n",
        "test['Num_of_Delayed_Payment'] = test['Num_of_Delayed_Payment'].fillna('0').str.extract('(\\d+)').astype(float).astype(int)"
      ],
      "metadata": {
        "id": "fgz9uANEO-Kd"
      },
      "execution_count": 148,
      "outputs": []
    },
    {
      "cell_type": "code",
      "source": [
        "# Mengambil semua nilai berbentuk angka dan menyimpannya kembali dalam bentuk float\n",
        "test['Annual_Income'] = test['Annual_Income'].str.replace(r'[^0-9.]', '', regex=True)\n",
        "test['Annual_Income'] = test['Annual_Income'].astype(float)"
      ],
      "metadata": {
        "id": "tMQ0sMSHO-Kd"
      },
      "execution_count": 149,
      "outputs": []
    },
    {
      "cell_type": "code",
      "source": [
        "# Mengubah nilai _ menjadi NaN, mengubah kolom menjadi numerik, dan mengisi nilai kolom menjadi 0 jika kolom berisi NaN\n",
        "test['Changed_Credit_Limit'] = test['Changed_Credit_Limit'].replace('_', np.nan)\n",
        "test['Changed_Credit_Limit'] = pd.to_numeric(test['Changed_Credit_Limit'], errors='coerce')\n",
        "test['Changed_Credit_Limit'] = test['Changed_Credit_Limit'].fillna(0)"
      ],
      "metadata": {
        "id": "CQk4ltbvO-Ke"
      },
      "execution_count": 150,
      "outputs": []
    },
    {
      "cell_type": "code",
      "source": [
        "# Mengubah kolom menjadi bentuk string, mengambil angka dalam kolom, mengubah kolom menjadi numerik, dan mengisi nilai kolom kosong menjadi 0\n",
        "test['Outstanding_Debt'] = test['Outstanding_Debt'].astype(str)\n",
        "test['Outstanding_Debt'] = test['Outstanding_Debt'].str.replace(r'[^0-9.]', '', regex=True)\n",
        "test['Outstanding_Debt'] = pd.to_numeric(test['Outstanding_Debt'], errors='coerce')\n",
        "test['Outstanding_Debt'] = test['Outstanding_Debt'].fillna(0)"
      ],
      "metadata": {
        "id": "53UsxCx0O-Ke"
      },
      "execution_count": 151,
      "outputs": []
    },
    {
      "cell_type": "code",
      "source": [
        "# Mengubah kolom menjadi bentuk string, mengambil mengganti nilai yang kosong menjadi 0, mengambil angka dalam kolom,\n",
        "# mengubah kolom menjadi numerik, dan mengisi kolom yang kosong dengan 0\n",
        "test['Amount_invested_monthly'] = test['Amount_invested_monthly'].astype(str)\n",
        "test['Amount_invested_monthly'] = test['Amount_invested_monthly'].replace('', '0')\n",
        "test['Amount_invested_monthly'] = test['Amount_invested_monthly'].str.replace(r'[^0-9.]', '')\n",
        "test['Amount_invested_monthly'] = pd.to_numeric(test['Amount_invested_monthly'], errors='coerce')\n",
        "test['Amount_invested_monthly'] = test['Amount_invested_monthly'].fillna(0)"
      ],
      "metadata": {
        "id": "WLy-Wfs0O-Ke"
      },
      "execution_count": 152,
      "outputs": []
    },
    {
      "cell_type": "code",
      "source": [
        "# Mengubah kolom menjadi bentuk string, mengambil mengganti nilai yang kosong menjadi 0, mengambil angka dalam kolom,\n",
        "# mengubah kolom menjadi numerik, dan mengisi kolom yang kosong dengan 0\n",
        "test['Monthly_Balance'] = test['Monthly_Balance'].astype(str)\n",
        "test['Monthly_Balance'] = test['Monthly_Balance'].str.replace(r'[^0-9.-]+', '')\n",
        "test['Monthly_Balance'] = pd.to_numeric(test['Monthly_Balance'], errors='coerce')\n",
        "test['Monthly_Balance'] = test['Monthly_Balance'].fillna(0)"
      ],
      "metadata": {
        "id": "vejI2v8BO-Ke"
      },
      "execution_count": 153,
      "outputs": []
    },
    {
      "cell_type": "code",
      "source": [
        "# Mengubah kolom Credit_History_Age_Months yang tadinya berisi tahun dan bulan dikonversi menjadi bulan\n",
        "def parse_years_and_months(age):\n",
        "    if isinstance(age, str):\n",
        "        age_parts = age.split(' Years and ')\n",
        "        years = int(age_parts[0]) if 'Years' in age else 0\n",
        "        months_str = age_parts[1].split(' Months')[0] if 'Months' in age_parts[1] else '0'\n",
        "        months = int(months_str)\n",
        "        total_months = years * 12 + months\n",
        "        return total_months\n",
        "    else:\n",
        "        return 0\n",
        "\n",
        "test['Credit_History_Age_Months'] = test['Credit_History_Age'].apply(parse_years_and_months)"
      ],
      "metadata": {
        "id": "4Mn4ZqaPO-Ke"
      },
      "execution_count": 154,
      "outputs": []
    },
    {
      "cell_type": "markdown",
      "source": [
        "## Data Entry Plus"
      ],
      "metadata": {
        "id": "ys23m6BTPIBU"
      }
    },
    {
      "cell_type": "markdown",
      "source": [
        "### Filtering"
      ],
      "metadata": {
        "id": "cGBeu0DIPIBa"
      }
    },
    {
      "cell_type": "code",
      "source": [
        "# Mengambil data dengan payment_behavior yang benar\n",
        "test = test[test['Payment_Behaviour'] != '!@9#%8']\n",
        "\n",
        "# Menhapus baris yang memiliki nilai '_______' pada kolom Occupation\n",
        "test = test[test['Occupation'] != '_______']\n",
        "\n",
        "# Menghapus baris yang berisi '_' pada kolom Credit_Mix\n",
        "test = test[test['Credit_Mix'] != '_']"
      ],
      "metadata": {
        "id": "B0LPuDtjPIBa"
      },
      "execution_count": 155,
      "outputs": []
    },
    {
      "cell_type": "markdown",
      "source": [
        "### Label Encoder"
      ],
      "metadata": {
        "id": "Z9R5ikM3P1Na"
      }
    },
    {
      "cell_type": "code",
      "source": [
        "# Memberikan label baru untuk Occupation\n",
        "label_encoder = LabelEncoder()\n",
        "test['Occupation_Encoded'] = label_encoder.fit_transform(test['Occupation'])"
      ],
      "metadata": {
        "id": "4Giw8fRkP1Nb"
      },
      "execution_count": 156,
      "outputs": []
    },
    {
      "cell_type": "markdown",
      "source": [
        "### Ordinal Encoder"
      ],
      "metadata": {
        "id": "IN9c8nSzP1Nb"
      }
    },
    {
      "cell_type": "code",
      "source": [
        "# Memberikan label baru untuk kolom Credit_Mix\n",
        "categories = ['Bad', 'Standard', 'Good']\n",
        "encoder = OrdinalEncoder(categories=[categories])\n",
        "test['Credit_Mix_Encoded'] = encoder.fit_transform(test[['Credit_Mix']])"
      ],
      "metadata": {
        "id": "liZHcWk7P1Nb"
      },
      "execution_count": 157,
      "outputs": []
    },
    {
      "cell_type": "code",
      "source": [
        "# Memberikan label baru untuk kolom Payment_Behaviour\n",
        "categories_payment_behaviour = [\n",
        "    'Low_spent_Small_value_payments',\n",
        "    'Low_spent_Medium_value_payments',\n",
        "    'Low_spent_Large_value_payments',\n",
        "    'High_spent_Small_value_payments',\n",
        "    'High_spent_Medium_value_payments',\n",
        "    'High_spent_Large_value_payments'\n",
        "]\n",
        "\n",
        "encoder_payment_behaviour = OrdinalEncoder(categories=[categories_payment_behaviour])\n",
        "\n",
        "test['Payment_Behaviour_Encoded'] = encoder_payment_behaviour.fit_transform(test[['Payment_Behaviour']])"
      ],
      "metadata": {
        "id": "gEjF5s06P1Nb"
      },
      "execution_count": 158,
      "outputs": []
    },
    {
      "cell_type": "markdown",
      "source": [
        "## New Features"
      ],
      "metadata": {
        "id": "hGH5iwB7P1Nb"
      }
    },
    {
      "cell_type": "code",
      "source": [
        "# Menjumlahkan jumlah akun yang dimiliki (Bank Accounts + Credit Cards)\n",
        "test['Total_Num_Accounts'] = test['Num_Bank_Accounts'] + test['Num_Credit_Card']\n",
        "\n",
        "# Menghitung outstanding debt untuk tiap akun\n",
        "test['Debt_Per_Account'] = test['Outstanding_Debt'] / test['Total_Num_Accounts']\n",
        "\n",
        "# Menghitung rasio outstanding debt dengan annual income\n",
        "test['Debt_to_Income_Ratio'] = test['Outstanding_Debt'] / test['Annual_Income']\n",
        "\n",
        "# Menghitung banyak delayed payment tiap akun\n",
        "test['Delayed_Payments_Per_Account'] = test['Num_of_Delayed_Payment'] / test['Total_Num_Accounts']\n",
        "\n",
        "# Menghitung pengeluaran tiap bulan (EMI + Monthly Investments)\n",
        "test['Total_Monthly_Expenses'] = test['Total_EMI_per_month'] + test['Amount_invested_monthly']"
      ],
      "metadata": {
        "id": "tuWbsVSCP1Nb"
      },
      "execution_count": 159,
      "outputs": []
    },
    {
      "cell_type": "markdown",
      "source": [
        "## Hapus Kolom Tidak Digunakan"
      ],
      "metadata": {
        "id": "Ba_8wFJzTYNX"
      }
    },
    {
      "cell_type": "code",
      "source": [
        "# Menghapus kolom yang tidak memiliki pengaruh besar terhadap kolom yang akan diprediksi\n",
        "columns_to_drop = [ 'Payment_of_Min_Amount', 'Age', 'Monthly_Balance', 'Total_Monthly_Expenses', 'Payment_Behaviour_Encoded',\n",
        "                   'Amount_invested_monthly', 'Credit_Utilization_Ratio', 'Occupation_Encoded', 'ID', 'Customer_ID', 'Month',\n",
        "                    'SSN', 'Credit_History_Age', 'Monthly_Inhand_Salary', 'Name', 'Type_of_Loan', 'Payment_Behaviour',\n",
        "                    'Credit_Mix', 'Occupation']\n",
        "test.drop(columns=columns_to_drop, inplace=True)"
      ],
      "metadata": {
        "id": "OYfNYS95QSYq"
      },
      "execution_count": 160,
      "outputs": []
    },
    {
      "cell_type": "code",
      "source": [
        "# Menghapus baris NaN value\n",
        "test = test.dropna(axis = 0)"
      ],
      "metadata": {
        "id": "Bqvlfm6GQdoG"
      },
      "execution_count": 161,
      "outputs": []
    },
    {
      "cell_type": "markdown",
      "source": [
        "## Predict"
      ],
      "metadata": {
        "id": "KPXhMq9vTvbc"
      }
    },
    {
      "cell_type": "code",
      "source": [
        "y_pred = xgb_model.predict(test)\n",
        "y_pred = np.clip(y_pred, 0, 2)\n",
        "y_pred = np.round(y_pred)"
      ],
      "metadata": {
        "id": "T_8NlTRVL51S"
      },
      "execution_count": 162,
      "outputs": []
    },
    {
      "cell_type": "markdown",
      "source": [
        "## Sebaran Data Prediksi"
      ],
      "metadata": {
        "id": "xqwnPqUMTw7i"
      }
    },
    {
      "cell_type": "code",
      "source": [
        "# Menghitung jumlah kemunculan setiap nilai dalam y_pred\n",
        "value_counts = pd.Series(y_pred).value_counts()\n",
        "\n",
        "# Membuat DataFrame dari hasil perhitungan\n",
        "table = pd.DataFrame({'Nilai': value_counts.index, 'Jumlah': value_counts.values})\n",
        "\n",
        "# Menampilkan tabel\n",
        "print(table)\n",
        "\n",
        "# Membuat grafik batang\n",
        "plt.bar(value_counts.index, value_counts.values)\n",
        "\n",
        "# Memberikan label sumbu dan judul\n",
        "plt.xlabel('Nilai')\n",
        "plt.ylabel('Jumlah')\n",
        "plt.title('Persebaran Nilai Prediksi')\n",
        "\n",
        "# Menampilkan grafik\n",
        "plt.show()"
      ],
      "metadata": {
        "colab": {
          "base_uri": "https://localhost:8080/",
          "height": 545
        },
        "id": "_xtJvy0MSz6Z",
        "outputId": "35c46091-df8f-4365-dbed-8798dd2f37c7"
      },
      "execution_count": 163,
      "outputs": [
        {
          "output_type": "stream",
          "name": "stdout",
          "text": [
            "   Nilai  Jumlah\n",
            "0    1.0   21504\n",
            "1    2.0    6460\n",
            "2    0.0    5844\n"
          ]
        },
        {
          "output_type": "display_data",
          "data": {
            "text/plain": [
              "<Figure size 640x480 with 1 Axes>"
            ],
            "image/png": "[encoded data removed]"
          },
          "metadata": {}
        }
      ]
    },
    {
      "cell_type": "markdown",
      "source": [
        "Dapat dilihat sebaran data hasil prediksi. Dapat diketahui bahwa menggunakan model hasil latih menggunakan data train dapat memprediksi credit score pada data pada file dengan sebaran nilai 1 (Standard) sebanyak 21.504 data, nilai 2 (Good) sebanyak 6.460 data, dan nilai 0 (Bad) sebanyak 5.844 data."
      ],
      "metadata": {
        "id": "NqEREEqWIxCK"
      }
    }
  ]
}